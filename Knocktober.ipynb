{
 "cells": [
  {
   "cell_type": "code",
   "execution_count": 620,
   "metadata": {
    "collapsed": false
   },
   "outputs": [],
   "source": [
    "# special IPython command to prepare the notebook for matplotlib\n",
    "%matplotlib inline \n",
    "\n",
    "import requests \n",
    "from StringIO import StringIO\n",
    "import numpy as np\n",
    "import pandas as pd # pandas\n",
    "import matplotlib.pyplot as plt # module for plotting \n",
    "import datetime as dt # module for manipulating dates and times\n",
    "import numpy.linalg as lin # module for performing linear algebra operations\n",
    "import collections\n",
    "\n",
    "# special matplotlib argument for improved plots\n",
    "from matplotlib import rcParams\n",
    "import seaborn as sns\n",
    "\n",
    "#colorbrewer2 Dark2 qualitative color table\n",
    "dark2_colors = [(0.10588235294117647, 0.6196078431372549, 0.4666666666666667),\n",
    "                (0.8509803921568627, 0.37254901960784315, 0.00784313725490196),\n",
    "                (0.4588235294117647, 0.4392156862745098, 0.7019607843137254),\n",
    "                (0.9058823529411765, 0.1607843137254902, 0.5411764705882353),\n",
    "                (0.4, 0.6509803921568628, 0.11764705882352941),\n",
    "                (0.9019607843137255, 0.6705882352941176, 0.00784313725490196),\n",
    "                (0.6509803921568628, 0.4627450980392157, 0.11372549019607843)]\n",
    "\n",
    "rcParams['figure.figsize'] = (20, 6)\n",
    "rcParams['figure.dpi'] = 150\n",
    "rcParams['axes.color_cycle'] = dark2_colors\n",
    "rcParams['lines.linewidth'] = 2\n",
    "rcParams['axes.facecolor'] = 'white'\n",
    "rcParams['font.size'] = 14\n",
    "rcParams['patch.edgecolor'] = 'white'\n",
    "rcParams['patch.facecolor'] = dark2_colors[0]\n",
    "rcParams['font.family'] = 'StixGeneral'"
   ]
  },
  {
   "cell_type": "code",
   "execution_count": 621,
   "metadata": {
    "collapsed": true
   },
   "outputs": [],
   "source": [
    "patient = pd.read_csv('Patient_Profile.csv')\n",
    "health_camp = pd.read_csv('Health_Camp_Detail.csv')\n",
    "first = pd.read_csv('First_Health_Camp_Attended.csv')\n",
    "second = pd.read_csv('Second_Health_Camp_Attended.csv')\n",
    "third = pd.read_csv('Third_Health_Camp_Attended.csv')\n",
    "train = pd.read_csv('Train.csv')\n",
    "test = pd.read_csv('Test.csv')\n",
    "sample = pd.read_csv('sample.csv')"
   ]
  },
  {
   "cell_type": "code",
   "execution_count": 622,
   "metadata": {
    "collapsed": true
   },
   "outputs": [],
   "source": [
    "train['train'] = 1\n",
    "test['train'] = 0"
   ]
  },
  {
   "cell_type": "code",
   "execution_count": 623,
   "metadata": {
    "collapsed": true
   },
   "outputs": [],
   "source": [
    "combine = pd.concat([train, test])"
   ]
  },
  {
   "cell_type": "code",
   "execution_count": 624,
   "metadata": {
    "collapsed": false
   },
   "outputs": [
    {
     "name": "stderr",
     "output_type": "stream",
     "text": [
      "/Users/Apple/anaconda/lib/python2.7/site-packages/ipykernel/__main__.py:5: SettingWithCopyWarning: \n",
      "A value is trying to be set on a copy of a slice from a DataFrame\n",
      "\n",
      "See the caveats in the documentation: http://pandas.pydata.org/pandas-docs/stable/indexing.html#indexing-view-versus-copy\n"
     ]
    }
   ],
   "source": [
    "health_camp['Camp_Start_Date'] = pd.to_datetime(health_camp['Camp_Start_Date'])\n",
    "health_camp['Camp_End_Date'] = pd.to_datetime(health_camp['Camp_End_Date'])\n",
    "health_camp['Camp_Duration'] = (health_camp['Camp_End_Date']-health_camp['Camp_Start_Date']).dt.days\n",
    "\n",
    "health_camp['Category2'][health_camp['Category2'].isin(['A','D','B'])] = 'Combine'\n",
    "\n",
    "combine = pd.merge(combine, health_camp, on = 'Health_Camp_ID', how = 'left')"
   ]
  },
  {
   "cell_type": "code",
   "execution_count": 625,
   "metadata": {
    "collapsed": false
   },
   "outputs": [
    {
     "name": "stderr",
     "output_type": "stream",
     "text": [
      "/Users/Apple/anaconda/lib/python2.7/site-packages/ipykernel/__main__.py:1: FutureWarning: the coerce=True keyword is deprecated, use errors='coerce' instead\n",
      "  if __name__ == '__main__':\n"
     ]
    }
   ],
   "source": [
    "combine['Registration_Date'] = pd.to_datetime(combine['Registration_Date'], coerce = True)"
   ]
  },
  {
   "cell_type": "code",
   "execution_count": 72,
   "metadata": {
    "collapsed": false
   },
   "outputs": [],
   "source": [
    "# combine = combine[~combine['Registration_Date'].isnull()]"
   ]
  },
  {
   "cell_type": "code",
   "execution_count": 626,
   "metadata": {
    "collapsed": false
   },
   "outputs": [
    {
     "name": "stderr",
     "output_type": "stream",
     "text": [
      "/Users/Apple/anaconda/lib/python2.7/site-packages/ipykernel/__main__.py:1: SettingWithCopyWarning: \n",
      "A value is trying to be set on a copy of a slice from a DataFrame\n",
      "\n",
      "See the caveats in the documentation: http://pandas.pydata.org/pandas-docs/stable/indexing.html#indexing-view-versus-copy\n",
      "  if __name__ == '__main__':\n"
     ]
    }
   ],
   "source": [
    "combine['Registration_Date'][combine['Registration_Date'].isnull()] = combine['Camp_Start_Date'][combine['Registration_Date'].isnull()]"
   ]
  },
  {
   "cell_type": "code",
   "execution_count": 627,
   "metadata": {
    "collapsed": false
   },
   "outputs": [
    {
     "name": "stderr",
     "output_type": "stream",
     "text": [
      "/Users/Apple/anaconda/lib/python2.7/site-packages/ipykernel/__main__.py:1: FutureWarning: sort(columns=....) is deprecated, use sort_values(by=.....)\n",
      "  if __name__ == '__main__':\n"
     ]
    }
   ],
   "source": [
    "combine = combine.sort('Registration_Date')"
   ]
  },
  {
   "cell_type": "code",
   "execution_count": 628,
   "metadata": {
    "collapsed": true
   },
   "outputs": [],
   "source": [
    "combine['Registered_Till_Now'] = 0"
   ]
  },
  {
   "cell_type": "code",
   "execution_count": 629,
   "metadata": {
    "collapsed": false
   },
   "outputs": [],
   "source": [
    "combine = combine.reset_index()"
   ]
  },
  {
   "cell_type": "code",
   "execution_count": 630,
   "metadata": {
    "collapsed": false
   },
   "outputs": [
    {
     "data": {
      "text/plain": [
       "(19151, 2)"
      ]
     },
     "execution_count": 630,
     "metadata": {},
     "output_type": "execute_result"
    }
   ],
   "source": [
    "df = combine['Patient_ID'].value_counts().reset_index()\n",
    "df[df['Patient_ID']>1].shape"
   ]
  },
  {
   "cell_type": "code",
   "execution_count": 631,
   "metadata": {
    "collapsed": false
   },
   "outputs": [
    {
     "data": {
      "text/plain": [
       "0"
      ]
     },
     "execution_count": 631,
     "metadata": {},
     "output_type": "execute_result"
    }
   ],
   "source": [
    "combine[(combine.index<10) & (combine['Patient_ID']==489605)]['Patient_ID'].count()"
   ]
  },
  {
   "cell_type": "code",
   "execution_count": 632,
   "metadata": {
    "collapsed": false
   },
   "outputs": [],
   "source": [
    "for index,row in combine[combine['Patient_ID'].isin(df['index'][df['Patient_ID']>1])].iterrows():\n",
    "    combine.set_value(index, 'Registered_Till_Now', combine[(combine.index<index) & (combine['Patient_ID']==row['Patient_ID'])]['Patient_ID'].count())"
   ]
  },
  {
   "cell_type": "code",
   "execution_count": 633,
   "metadata": {
    "collapsed": false
   },
   "outputs": [],
   "source": [
    "combine['Registered_For_Camp_Till_Now'] = 0"
   ]
  },
  {
   "cell_type": "code",
   "execution_count": 634,
   "metadata": {
    "collapsed": true
   },
   "outputs": [],
   "source": [
    "for index,row in combine.iterrows():\n",
    "    combine.set_value(index, 'Registered_For_Camp_Till_Now', combine[(combine.index<index) & (combine['Health_Camp_ID']==row['Health_Camp_ID'])]['Health_Camp_ID'].count())"
   ]
  },
  {
   "cell_type": "code",
   "execution_count": 635,
   "metadata": {
    "collapsed": false
   },
   "outputs": [],
   "source": [
    "first = first[first.columns[:4]]"
   ]
  },
  {
   "cell_type": "code",
   "execution_count": 636,
   "metadata": {
    "collapsed": true
   },
   "outputs": [],
   "source": [
    "# combine.to_csv('Main.csv', index = False)\n",
    "#combine = pd.read_csv('Main.csv')"
   ]
  },
  {
   "cell_type": "code",
   "execution_count": 637,
   "metadata": {
    "collapsed": false
   },
   "outputs": [],
   "source": [
    "# train.shape[0]+test.shape[0]"
   ]
  },
  {
   "cell_type": "code",
   "execution_count": 638,
   "metadata": {
    "collapsed": false
   },
   "outputs": [],
   "source": [
    "first['Outcome'] = 1\n",
    "second['Outcome'] = 1\n",
    "third[\"Outcome\"] = 0\n",
    "third['Outcome'][third['Number_of_stall_visited']>0] = 1"
   ]
  },
  {
   "cell_type": "code",
   "execution_count": 639,
   "metadata": {
    "collapsed": true
   },
   "outputs": [],
   "source": [
    "to_add = pd.concat([first[['Patient_ID','Health_Camp_ID','Outcome']], second[['Patient_ID','Health_Camp_ID','Outcome']], third[['Patient_ID','Health_Camp_ID','Outcome']]])\n",
    "to_add = to_add[to_add['Outcome']!=0]\n",
    "\n",
    "combine = pd.merge(combine, to_add, on = ['Patient_ID','Health_Camp_ID'], how = 'left')"
   ]
  },
  {
   "cell_type": "code",
   "execution_count": 640,
   "metadata": {
    "collapsed": true
   },
   "outputs": [],
   "source": [
    "combine['Outcome'].fillna(0, inplace = True)"
   ]
  },
  {
   "cell_type": "code",
   "execution_count": 641,
   "metadata": {
    "collapsed": false
   },
   "outputs": [
    {
     "data": {
      "text/plain": [
       "index                           0\n",
       "Patient_ID                      0\n",
       "Health_Camp_ID                  0\n",
       "Registration_Date               0\n",
       "Var1                            0\n",
       "Var2                            0\n",
       "Var3                            0\n",
       "Var4                            0\n",
       "Var5                            0\n",
       "train                           0\n",
       "Camp_Start_Date                 0\n",
       "Camp_End_Date                   0\n",
       "Category1                       0\n",
       "Category2                       0\n",
       "Category3                       0\n",
       "Camp_Duration                   0\n",
       "Registered_Till_Now             0\n",
       "Registered_For_Camp_Till_Now    0\n",
       "Outcome                         0\n",
       "dtype: int64"
      ]
     },
     "execution_count": 641,
     "metadata": {},
     "output_type": "execute_result"
    }
   ],
   "source": [
    "combine.isnull().sum()"
   ]
  },
  {
   "cell_type": "code",
   "execution_count": 642,
   "metadata": {
    "collapsed": false
   },
   "outputs": [],
   "source": [
    "test['Registration_Date'] = pd.to_datetime(test['Registration_Date'])"
   ]
  },
  {
   "cell_type": "code",
   "execution_count": 643,
   "metadata": {
    "collapsed": true
   },
   "outputs": [],
   "source": [
    "combine = pd.merge(combine, patient, on = \"Patient_ID\", how = 'left')"
   ]
  },
  {
   "cell_type": "code",
   "execution_count": 644,
   "metadata": {
    "collapsed": true
   },
   "outputs": [],
   "source": [
    "for c in ['Registration_Date','Camp_Start_Date','Camp_End_Date','First_Interaction']:\n",
    "    combine[c] = pd.to_datetime(combine[c])"
   ]
  },
  {
   "cell_type": "code",
   "execution_count": 645,
   "metadata": {
    "collapsed": false
   },
   "outputs": [],
   "source": [
    "combine['Reg_To_Camp_Start'] = (combine['Camp_Start_Date']-combine['Registration_Date']).dt.days\n",
    "combine['Reg_To_Camp_End'] = (combine['Camp_End_Date']-combine['Registration_Date']).dt.days\n",
    "\n",
    "#combine['First_Interaction'] = pd.to_datetime(combine['First_Interaction'])\n",
    "\n",
    "combine['Int_To_Reg'] = (combine['Registration_Date']-combine['First_Interaction']).dt.days"
   ]
  },
  {
   "cell_type": "code",
   "execution_count": 646,
   "metadata": {
    "collapsed": false
   },
   "outputs": [
    {
     "name": "stderr",
     "output_type": "stream",
     "text": [
      "/Users/Apple/anaconda/lib/python2.7/site-packages/ipykernel/__main__.py:1: SettingWithCopyWarning: \n",
      "A value is trying to be set on a copy of a slice from a DataFrame\n",
      "\n",
      "See the caveats in the documentation: http://pandas.pydata.org/pandas-docs/stable/indexing.html#indexing-view-versus-copy\n",
      "  if __name__ == '__main__':\n"
     ]
    }
   ],
   "source": [
    "combine['Education_Score'][combine['Education_Score']=='None'] = -999\n",
    "combine['Education_Score'] = combine['Education_Score'].astype(float)"
   ]
  },
  {
   "cell_type": "code",
   "execution_count": 1,
   "metadata": {
    "collapsed": false
   },
   "outputs": [],
   "source": [
    "# combine.isnull().sum()"
   ]
  },
  {
   "cell_type": "code",
   "execution_count": 2,
   "metadata": {
    "collapsed": false
   },
   "outputs": [],
   "source": [
    "# combine.dtypes"
   ]
  },
  {
   "cell_type": "code",
   "execution_count": 649,
   "metadata": {
    "collapsed": false
   },
   "outputs": [
    {
     "name": "stderr",
     "output_type": "stream",
     "text": [
      "/Users/Apple/anaconda/lib/python2.7/site-packages/ipykernel/__main__.py:1: SettingWithCopyWarning: \n",
      "A value is trying to be set on a copy of a slice from a DataFrame\n",
      "\n",
      "See the caveats in the documentation: http://pandas.pydata.org/pandas-docs/stable/indexing.html#indexing-view-versus-copy\n",
      "  if __name__ == '__main__':\n"
     ]
    }
   ],
   "source": [
    "combine['Age'][combine['Age']=='None'] = -999"
   ]
  },
  {
   "cell_type": "code",
   "execution_count": 650,
   "metadata": {
    "collapsed": false
   },
   "outputs": [
    {
     "name": "stderr",
     "output_type": "stream",
     "text": [
      "/Users/Apple/anaconda/lib/python2.7/site-packages/ipykernel/__main__.py:1: SettingWithCopyWarning: \n",
      "A value is trying to be set on a copy of a slice from a DataFrame\n",
      "\n",
      "See the caveats in the documentation: http://pandas.pydata.org/pandas-docs/stable/indexing.html#indexing-view-versus-copy\n",
      "  if __name__ == '__main__':\n"
     ]
    }
   ],
   "source": [
    "combine['Income'][combine['Age']=='None'] = -999"
   ]
  },
  {
   "cell_type": "code",
   "execution_count": 651,
   "metadata": {
    "collapsed": false
   },
   "outputs": [
    {
     "name": "stderr",
     "output_type": "stream",
     "text": [
      "/Users/Apple/anaconda/lib/python2.7/site-packages/ipykernel/__main__.py:2: SettingWithCopyWarning: \n",
      "A value is trying to be set on a copy of a slice from a DataFrame\n",
      "\n",
      "See the caveats in the documentation: http://pandas.pydata.org/pandas-docs/stable/indexing.html#indexing-view-versus-copy\n",
      "  from ipykernel import kernelapp as app\n"
     ]
    }
   ],
   "source": [
    "combine['Var4'].value_counts()\n",
    "combine['Var4'][combine['Var4'].isin([4,5,6,8])] = 4"
   ]
  },
  {
   "cell_type": "code",
   "execution_count": 652,
   "metadata": {
    "collapsed": false
   },
   "outputs": [],
   "source": [
    "# combine.groupby('Var5')['Outcome'].mean()"
   ]
  },
  {
   "cell_type": "code",
   "execution_count": 653,
   "metadata": {
    "collapsed": true
   },
   "outputs": [],
   "source": [
    "#combine['Var_new1'] = np.log(1+combine['Var1'])\n",
    "combine['Var_new4'] = combine['Var4'].astype(str)"
   ]
  },
  {
   "cell_type": "code",
   "execution_count": 654,
   "metadata": {
    "collapsed": false
   },
   "outputs": [
    {
     "data": {
      "text/plain": [
       "index                                    int64\n",
       "Patient_ID                               int64\n",
       "Health_Camp_ID                           int64\n",
       "Registration_Date               datetime64[ns]\n",
       "Var1                                     int64\n",
       "Var2                                     int64\n",
       "Var3                                     int64\n",
       "Var4                                     int64\n",
       "Var5                                     int64\n",
       "train                                    int64\n",
       "Camp_Start_Date                 datetime64[ns]\n",
       "Camp_End_Date                   datetime64[ns]\n",
       "Category1                               object\n",
       "Category2                               object\n",
       "Category3                                int64\n",
       "Camp_Duration                            int64\n",
       "Registered_Till_Now                      int64\n",
       "Registered_For_Camp_Till_Now             int64\n",
       "Outcome                                float64\n",
       "Online_Follower                          int64\n",
       "LinkedIn_Shared                          int64\n",
       "Twitter_Shared                           int64\n",
       "Facebook_Shared                          int64\n",
       "Income                                  object\n",
       "Education_Score                        float64\n",
       "Age                                     object\n",
       "First_Interaction               datetime64[ns]\n",
       "City_Type                               object\n",
       "Employer_Category                       object\n",
       "Reg_To_Camp_Start                        int64\n",
       "Reg_To_Camp_End                          int64\n",
       "Int_To_Reg                               int64\n",
       "Var_new4                                object\n",
       "dtype: object"
      ]
     },
     "execution_count": 654,
     "metadata": {},
     "output_type": "execute_result"
    }
   ],
   "source": [
    "combine.dtypes"
   ]
  },
  {
   "cell_type": "code",
   "execution_count": 655,
   "metadata": {
    "collapsed": false
   },
   "outputs": [
    {
     "data": {
      "text/plain": [
       "Index([u'index', u'Patient_ID', u'Health_Camp_ID', u'Registration_Date',\n",
       "       u'Var1', u'Var2', u'Var3', u'Var4', u'Var5', u'train',\n",
       "       u'Camp_Start_Date', u'Camp_End_Date', u'Category1', u'Category2',\n",
       "       u'Category3', u'Camp_Duration', u'Registered_Till_Now',\n",
       "       u'Registered_For_Camp_Till_Now', u'Outcome', u'Online_Follower',\n",
       "       u'LinkedIn_Shared', u'Twitter_Shared', u'Facebook_Shared', u'Income',\n",
       "       u'Education_Score', u'Age', u'First_Interaction', u'City_Type',\n",
       "       u'Employer_Category', u'Reg_To_Camp_Start', u'Reg_To_Camp_End',\n",
       "       u'Int_To_Reg', u'Var_new4'],\n",
       "      dtype='object')"
      ]
     },
     "execution_count": 655,
     "metadata": {},
     "output_type": "execute_result"
    }
   ],
   "source": [
    "combine.columns"
   ]
  },
  {
   "cell_type": "code",
   "execution_count": 656,
   "metadata": {
    "collapsed": false
   },
   "outputs": [
    {
     "data": {
      "text/plain": [
       "(110527, 33)"
      ]
     },
     "execution_count": 656,
     "metadata": {},
     "output_type": "execute_result"
    }
   ],
   "source": [
    "combine.shape"
   ]
  },
  {
   "cell_type": "code",
   "execution_count": 657,
   "metadata": {
    "collapsed": false
   },
   "outputs": [
    {
     "data": {
      "text/plain": [
       "(39789, 33)"
      ]
     },
     "execution_count": 657,
     "metadata": {},
     "output_type": "execute_result"
    }
   ],
   "source": [
    "combine[(combine['train']==1) & (combine['Camp_Start_Date']>'2005-06-06')].shape"
   ]
  },
  {
   "cell_type": "code",
   "execution_count": 658,
   "metadata": {
    "collapsed": true
   },
   "outputs": [],
   "source": [
    "combine['Camp_Start_Month'] = combine['Camp_Start_Date'].dt.month\n",
    "combine['Camp_End_Month'] = combine['Camp_End_Date'].dt.month"
   ]
  },
  {
   "cell_type": "code",
   "execution_count": 659,
   "metadata": {
    "collapsed": true
   },
   "outputs": [],
   "source": [
    "combine[\"Age\"] = combine['Age'].astype(int)"
   ]
  },
  {
   "cell_type": "code",
   "execution_count": 857,
   "metadata": {
    "collapsed": true
   },
   "outputs": [],
   "source": [
    "cont = [u'Var1', u'Var2', u'Var3',u'Var5', u'train', \n",
    "       u'Registered_Till_Now', u'Registered_For_Camp_Till_Now', u'Outcome',\n",
    "       u'Category3', u'Camp_Duration', u'Online_Follower', u'LinkedIn_Shared',\n",
    "       u'Twitter_Shared', u'Facebook_Shared', \n",
    "       u'Reg_To_Camp_Start', u'Reg_To_Camp_End', u'Int_To_Reg','Age','Education_Score']\n",
    "\n",
    "cat = [ u'Category1', u'Category2','Income','Employer_Category']\n",
    "\n",
    "extra = ['Registration_Date']"
   ]
  },
  {
   "cell_type": "code",
   "execution_count": 858,
   "metadata": {
    "collapsed": false
   },
   "outputs": [
    {
     "name": "stdout",
     "output_type": "stream",
     "text": [
      "Var1\n",
      "Var2\n",
      "Var3\n",
      "Var5\n",
      "train\n",
      "Registered_Till_Now\n",
      "Registered_For_Camp_Till_Now\n",
      "Outcome\n",
      "Category3\n",
      "Camp_Duration\n",
      "Online_Follower\n",
      "LinkedIn_Shared\n",
      "Twitter_Shared\n",
      "Facebook_Shared\n",
      "Reg_To_Camp_Start\n",
      "Reg_To_Camp_End\n",
      "Int_To_Reg\n",
      "Age\n",
      "Education_Score\n"
     ]
    }
   ],
   "source": [
    "#for h in combine['Health_Camp_ID'].unique():\n",
    "for c in cont:\n",
    "    print c\n",
    "    combine[c].fillna(combine[c].median(), inplace = True)"
   ]
  },
  {
   "cell_type": "code",
   "execution_count": 3,
   "metadata": {
    "collapsed": false
   },
   "outputs": [],
   "source": [
    "# combine.isnull().sum()"
   ]
  },
  {
   "cell_type": "code",
   "execution_count": 860,
   "metadata": {
    "collapsed": false
   },
   "outputs": [],
   "source": [
    "# health_camp[health_camp['Health_Camp_ID'].isin(combine[combine['train']==1]['Health_Camp_ID'].unique())]"
   ]
  },
  {
   "cell_type": "code",
   "execution_count": 4,
   "metadata": {
    "collapsed": false
   },
   "outputs": [],
   "source": [
    "# combine[combine['Health_Camp_ID'].isin([6528,6529,6541,6534])].shape"
   ]
  },
  {
   "cell_type": "code",
   "execution_count": 5,
   "metadata": {
    "collapsed": false
   },
   "outputs": [],
   "source": [
    "# combine['Var14'] = combine['Var1']*combine['Var5']\n",
    "# combine[['Var1','Var5','Var14']].corr()"
   ]
  },
  {
   "cell_type": "code",
   "execution_count": 863,
   "metadata": {
    "collapsed": true
   },
   "outputs": [],
   "source": [
    "combine['Social'] = combine['LinkedIn_Shared']+combine['Twitter_Shared']+combine['Facebook_Shared']"
   ]
  },
  {
   "cell_type": "code",
   "execution_count": 864,
   "metadata": {
    "collapsed": true
   },
   "outputs": [],
   "source": [
    "combine['Var_Total'] = combine['Var1']+combine['Var2']+combine['Var5']"
   ]
  },
  {
   "cell_type": "code",
   "execution_count": 866,
   "metadata": {
    "collapsed": false
   },
   "outputs": [],
   "source": [
    "to_train = combine[combine['train']==1]\n",
    "to_test = combine[combine['train']==0]"
   ]
  },
  {
   "cell_type": "code",
   "execution_count": 867,
   "metadata": {
    "collapsed": false
   },
   "outputs": [],
   "source": [
    "cont = [ u'Var2', u'Var3',  'Var5','Var1',\n",
    "       u'Registered_Till_Now', u'Registered_For_Camp_Till_Now', \n",
    "       u'Category3', u'Camp_Duration', u'Online_Follower', u'LinkedIn_Shared',\n",
    "       u'Twitter_Shared', u'Facebook_Shared', \n",
    "       u'Reg_To_Camp_Start', u'Reg_To_Camp_End', u'Int_To_Reg'\n",
    "       , 'Age','Education_Score','Social','Var_Total'\n",
    "       ]\n",
    "\n",
    "cat = [ u'Category1', u'Category2', u'Income','City_Type','Var_new4','Employer_Category']"
   ]
  },
  {
   "cell_type": "code",
   "execution_count": 868,
   "metadata": {
    "collapsed": false
   },
   "outputs": [],
   "source": [
    "X = pd.get_dummies(to_train[cat])\n",
    "X[cont] = to_train[cont]\n",
    "X[extra] = to_train[extra]\n",
    "\n",
    "y = to_train['Outcome']\n",
    "\n",
    "#X = X.drop('Income_-1', axis = 1)\n",
    "#X = X.drop('City_Type_-1', axis = 1)"
   ]
  },
  {
   "cell_type": "code",
   "execution_count": 869,
   "metadata": {
    "collapsed": false
   },
   "outputs": [],
   "source": [
    "# combine['Var4'].value_counts()"
   ]
  },
  {
   "cell_type": "code",
   "execution_count": 870,
   "metadata": {
    "collapsed": true
   },
   "outputs": [],
   "source": [
    "for c in [u'Income_None']:\n",
    "    X = X.drop(c, axis = 1)"
   ]
  },
  {
   "cell_type": "code",
   "execution_count": 871,
   "metadata": {
    "collapsed": true
   },
   "outputs": [],
   "source": [
    "# 'colsample_bytree': 0.9, 'silent': 0, 'min_child_weight': 6.0, 'n_estimators': 468.0, 'subsample': 0.55, 'eta': 0.025, 'objective': 'binary:logistic', 'max_depth': 3.0, 'gamma': 0.8, 'booster': 'gbtree'}"
   ]
  },
  {
   "cell_type": "code",
   "execution_count": 872,
   "metadata": {
    "collapsed": false
   },
   "outputs": [
    {
     "name": "stdout",
     "output_type": "stream",
     "text": [
      "Train a XGBoost model\n"
     ]
    }
   ],
   "source": [
    "from sklearn.cross_validation import train_test_split\n",
    "\n",
    "X_train, X_test, y_train, y_test = train_test_split(X, y, test_size = 0.4, stratify = y, random_state = 42)\n",
    "X_train = X[X['Registration_Date']>'2005-06-06']\n",
    "X_test = X[X['Registration_Date']<='2005-06-06']\n",
    "y_train = y[X_train.index]\n",
    "y_test = y[X_test.index]\n",
    "X_train = X_train.drop('Registration_Date', axis = 1)\n",
    "X_test = X_test.drop('Registration_Date', axis = 1)\n",
    "\n",
    "# X_train = X[~X['Health_Camp_ID'].isin([6528,6529,6541,6534])]\n",
    "# X_test = X[X['Health_Camp_ID'].isin([6528,6529,6541,6534])]\n",
    "# y_train = y[X_train.index]\n",
    "# y_test = y[X_test.index]\n",
    "# X_train = X_train.drop('Health_Camp_ID', axis = 1)\n",
    "# X_test = X_test.drop('Health_Camp_ID', axis = 1)\n",
    "\n",
    "\n",
    "#X = X.drop('Health_Camp_ID', axis = 1)\n",
    "X = X.drop('Registration_Date', axis = 1)\n",
    "\n",
    "\n",
    "import xgboost as xgb\n",
    "params = {\"objective\": \"binary:logistic\",\n",
    "          \"booster\" : \"gbtree\",\n",
    "          \"eta\": 0.08,\n",
    "          \"max_depth\": 3,\n",
    "          'gamma':0.7,\n",
    "          \"subsample\": 0.7,\n",
    "          \"colsample_bytree\": 1,\n",
    "          'min_child_weight':4,\n",
    "          \"silent\": 1,\n",
    "          \"seed\": 1301,\n",
    "          'eval_metric':'auc'\n",
    "          }\n",
    "num_boost_round = 300\n",
    "\n",
    "print(\"Train a XGBoost model\")\n",
    "#dtrain = xgb.DMatrix(X_train, y_train)\n",
    "dtrain = xgb.DMatrix(X, y)\n",
    "#dvalid = xgb.DMatrix(X_test, y_test)\n",
    "\n",
    "# watchlist = [(dtrain, 'train'), (dvalid, 'eval')]\n",
    "# gbm = xgb.train(params, dtrain, num_boost_round, evals=watchlist, \\\n",
    "#    early_stopping_rounds=50, verbose_eval=True)\n",
    "gbm = xgb.train(params, dtrain, num_boost_round)\n",
    "\n",
    "# # from sklearn.metrics import roc_auc_score\n",
    "# # roc_auc_score(y_test,gbm.predict(xgb.DMatrix(X_test)))"
   ]
  },
  {
   "cell_type": "code",
   "execution_count": 873,
   "metadata": {
    "collapsed": true
   },
   "outputs": [],
   "source": [
    "X_test = pd.get_dummies(to_test[cat])\n",
    "X_test[cont] = to_test[cont]\n",
    "\n",
    "X_test = X_test.drop('Income_None', axis = 1)\n",
    "\n",
    "test['Outcome'] = 0"
   ]
  },
  {
   "cell_type": "code",
   "execution_count": 874,
   "metadata": {
    "collapsed": false
   },
   "outputs": [],
   "source": [
    "# pd.DataFrame(gbm.predict(xgb.DMatrix(X_test)))"
   ]
  },
  {
   "cell_type": "code",
   "execution_count": 876,
   "metadata": {
    "collapsed": false
   },
   "outputs": [],
   "source": [
    "to_test = to_test.reset_index()\n",
    "to_test['Outcome'] = pd.DataFrame(gbm.predict(xgb.DMatrix(X_test)))"
   ]
  },
  {
   "cell_type": "code",
   "execution_count": 877,
   "metadata": {
    "collapsed": false
   },
   "outputs": [],
   "source": [
    "# to_test[sample.columns]"
   ]
  },
  {
   "cell_type": "code",
   "execution_count": 878,
   "metadata": {
    "collapsed": false
   },
   "outputs": [],
   "source": [
    "to_test[sample.columns].to_csv('final4.csv', index = False)"
   ]
  },
  {
   "cell_type": "code",
   "execution_count": 760,
   "metadata": {
    "collapsed": false
   },
   "outputs": [
    {
     "data": {
      "image/png": "[encoded data removed]",
      "text/plain": [
       "<matplotlib.figure.Figure at 0x11c827310>"
      ]
     },
     "metadata": {},
     "output_type": "display_data"
    }
   ],
   "source": [
    "import operator\n",
    "\n",
    "def create_feature_map(features):\n",
    "    outfile = open('xgb.fmap', 'w')\n",
    "    for i, feat in enumerate(features):\n",
    "        outfile.write('{0}\\t{1}\\tq\\n'.format(i, feat))\n",
    "    outfile.close()\n",
    "\n",
    "create_feature_map(X_train.columns)\n",
    "importance = gbm.get_fscore(fmap='xgb.fmap')\n",
    "importance = sorted(importance.items(), key=operator.itemgetter(1))\n",
    "\n",
    "df = pd.DataFrame(importance, columns=['feature', 'fscore'])\n",
    "df['fscore'] = df['fscore'] / df['fscore'].sum()\n",
    "\n",
    "featp = df.plot(kind='barh', x='feature', y='fscore', legend=False, figsize=(6, 10))\n",
    "plt.title('XGBoost Feature Importance')\n",
    "plt.xlabel('relative importance')\n",
    "fig_featp = featp.get_figure()"
   ]
  },
  {
   "cell_type": "code",
   "execution_count": 702,
   "metadata": {
    "collapsed": false
   },
   "outputs": [
    {
     "name": "stdout",
     "output_type": "stream",
     "text": [
      "Training with params : \n",
      "{'colsample_bytree': 1.0, 'silent': 0, 'min_child_weight': 3.0, 'n_estimators': 358.0, 'subsample': 0.8500000000000001, 'eta': 0.225, 'objective': 'binary:logistic', 'max_depth': 4.0, 'gamma': 0.8500000000000001, 'booster': 'gbtree'}\n",
      "\tScore 0.756057850949\n",
      "\n",
      "\n",
      "Training with params : \n",
      "{'colsample_bytree': 0.8500000000000001, 'silent': 0, 'min_child_weight': 6.0, 'n_estimators': 771.0, 'subsample': 0.55, 'eta': 0.15000000000000002, 'objective': 'binary:logistic', 'max_depth': 4.0, 'gamma': 0.7000000000000001, 'booster': 'gbtree'}\n",
      "\tScore 0.747490929291\n",
      "\n",
      "\n",
      "Training with params : \n",
      "{'colsample_bytree': 0.75, 'silent': 0, 'min_child_weight': 7.0, 'n_estimators': 152.0, 'subsample': 0.75, 'eta': 0.4, 'objective': 'binary:logistic', 'max_depth': 2.0, 'gamma': 0.55, 'booster': 'gbtree'}\n",
      "\tScore 0.759303358779\n",
      "\n",
      "\n",
      "Training with params : \n",
      "{'colsample_bytree': 0.8, 'silent': 0, 'min_child_weight': 2.0, 'n_estimators': 215.0, 'subsample': 0.55, 'eta': 0.2, 'objective': 'binary:logistic', 'max_depth': 2.0, 'gamma': 0.8500000000000001, 'booster': 'gbtree'}\n",
      "\tScore 0.77009063838\n",
      "\n",
      "\n",
      "Training with params : \n",
      "{'colsample_bytree': 0.7000000000000001, 'silent': 0, 'min_child_weight': 3.0, 'n_estimators': 136.0, 'subsample': 0.75, 'eta': 0.07500000000000001, 'objective': 'binary:logistic', 'max_depth': 6.0, 'gamma': 0.8, 'booster': 'gbtree'}\n",
      "\tScore 0.76831817999\n",
      "\n",
      "\n",
      "Training with params : \n",
      "{'colsample_bytree': 0.9, 'silent': 0, 'min_child_weight': 2.0, 'n_estimators': 337.0, 'subsample': 0.9500000000000001, 'eta': 0.325, 'objective': 'binary:logistic', 'max_depth': 1.0, 'gamma': 0.6000000000000001, 'booster': 'gbtree'}\n",
      "\tScore 0.739656915764\n",
      "\n",
      "\n",
      "Training with params : \n",
      "{'colsample_bytree': 0.9500000000000001, 'silent': 0, 'min_child_weight': 6.0, 'n_estimators': 341.0, 'subsample': 0.8, 'eta': 0.275, 'objective': 'binary:logistic', 'max_depth': 2.0, 'gamma': 1.0, 'booster': 'gbtree'}\n",
      "\tScore 0.772796213064\n",
      "\n",
      "\n",
      "Training with params : \n",
      "{'colsample_bytree': 0.7000000000000001, 'silent': 0, 'min_child_weight': 6.0, 'n_estimators': 380.0, 'subsample': 0.55, 'eta': 0.47500000000000003, 'objective': 'binary:logistic', 'max_depth': 2.0, 'gamma': 0.75, 'booster': 'gbtree'}\n",
      "\tScore 0.739705077031\n",
      "\n",
      "\n",
      "Training with params : \n",
      "{'colsample_bytree': 0.6000000000000001, 'silent': 0, 'min_child_weight': 4.0, 'n_estimators': 953.0, 'subsample': 0.8500000000000001, 'eta': 0.07500000000000001, 'objective': 'binary:logistic', 'max_depth': 5.0, 'gamma': 0.8500000000000001, 'booster': 'gbtree'}\n",
      "\tScore 0.744758446913\n",
      "\n",
      "\n",
      "Training with params : \n",
      "{'colsample_bytree': 1.0, 'silent': 0, 'min_child_weight': 8.0, 'n_estimators': 443.0, 'subsample': 0.9, 'eta': 0.2, 'objective': 'binary:logistic', 'max_depth': 6.0, 'gamma': 0.9, 'booster': 'gbtree'}\n",
      "\tScore 0.735895044616\n",
      "\n",
      "\n",
      "Training with params : \n",
      "{'colsample_bytree': 0.6000000000000001, 'silent': 0, 'min_child_weight': 2.0, 'n_estimators': 217.0, 'subsample': 0.7000000000000001, 'eta': 0.375, 'objective': 'binary:logistic', 'max_depth': 2.0, 'gamma': 0.7000000000000001, 'booster': 'gbtree'}\n",
      "\tScore 0.771513376395\n",
      "\n",
      "\n",
      "Training with params : \n",
      "{'colsample_bytree': 0.8500000000000001, 'silent': 0, 'min_child_weight': 7.0, 'n_estimators': 503.0, 'subsample': 0.9, 'eta': 0.45, 'objective': 'binary:logistic', 'max_depth': 6.0, 'gamma': 0.8500000000000001, 'booster': 'gbtree'}\n",
      "\tScore 0.710411086115\n",
      "\n",
      "\n",
      "Training with params : \n",
      "{'colsample_bytree': 0.75, 'silent': 0, 'min_child_weight': 3.0, 'n_estimators': 395.0, 'subsample': 0.8500000000000001, 'eta': 0.1, 'objective': 'binary:logistic', 'max_depth': 6.0, 'gamma': 0.9, 'booster': 'gbtree'}\n",
      "\tScore 0.7580988584\n",
      "\n",
      "\n",
      "Training with params : \n",
      "{'colsample_bytree': 0.7000000000000001, 'silent': 0, 'min_child_weight': 3.0, 'n_estimators': 233.0, 'subsample': 0.6000000000000001, 'eta': 0.2, 'objective': 'binary:logistic', 'max_depth': 2.0, 'gamma': 0.6000000000000001, 'booster': 'gbtree'}\n",
      "\tScore 0.774836016882\n",
      "\n",
      "\n",
      "Training with params : \n",
      "{'colsample_bytree': 0.9500000000000001, 'silent': 0, 'min_child_weight': 7.0, 'n_estimators': 180.0, 'subsample': 0.9500000000000001, 'eta': 0.275, 'objective': 'binary:logistic', 'max_depth': 5.0, 'gamma': 0.75, 'booster': 'gbtree'}\n",
      "\tScore 0.752692430278\n",
      "\n",
      "\n",
      "Training with params : \n",
      "{'colsample_bytree': 0.7000000000000001, 'silent': 0, 'min_child_weight': 4.0, 'n_estimators': 735.0, 'subsample': 0.8500000000000001, 'eta': 0.05, 'objective': 'binary:logistic', 'max_depth': 7.0, 'gamma': 0.9, 'booster': 'gbtree'}\n",
      "\tScore 0.755714301186\n",
      "\n",
      "\n",
      "Training with params : \n",
      "{'colsample_bytree': 0.65, 'silent': 0, 'min_child_weight': 9.0, 'n_estimators': 778.0, 'subsample': 0.75, 'eta': 0.1, 'objective': 'binary:logistic', 'max_depth': 7.0, 'gamma': 0.6000000000000001, 'booster': 'gbtree'}\n",
      "\tScore 0.728072375733\n",
      "\n",
      "\n",
      "Training with params : \n",
      "{'colsample_bytree': 0.55, 'silent': 0, 'min_child_weight': 1.0, 'n_estimators': 198.0, 'subsample': 0.8500000000000001, 'eta': 0.17500000000000002, 'objective': 'binary:logistic', 'max_depth': 3.0, 'gamma': 0.5, 'booster': 'gbtree'}\n",
      "\tScore 0.760578011195\n",
      "\n",
      "\n",
      "Training with params : \n",
      "{'colsample_bytree': 0.55, 'silent': 0, 'min_child_weight': 1.0, 'n_estimators': 570.0, 'subsample': 0.9500000000000001, 'eta': 0.1, 'objective': 'binary:logistic', 'max_depth': 4.0, 'gamma': 0.8500000000000001, 'booster': 'gbtree'}\n",
      "\tScore 0.759614565157\n",
      "\n",
      "\n",
      "Training with params : \n",
      "{'colsample_bytree': 0.9, 'silent': 0, 'min_child_weight': 7.0, 'n_estimators': 602.0, 'subsample': 0.9500000000000001, 'eta': 0.07500000000000001, 'objective': 'binary:logistic', 'max_depth': 6.0, 'gamma': 0.6000000000000001, 'booster': 'gbtree'}\n",
      "\tScore 0.762569021213\n",
      "\n",
      "\n",
      "Training with params : \n",
      "{'colsample_bytree': 0.8, 'silent': 0, 'min_child_weight': 5.0, 'n_estimators': 283.0, 'subsample': 0.65, 'eta': 0.275, 'objective': 'binary:logistic', 'max_depth': 1.0, 'gamma': 1.0, 'booster': 'gbtree'}\n",
      "\tScore 0.743888417851\n",
      "\n",
      "\n",
      "Training with params : \n",
      "{'colsample_bytree': 0.65, 'silent': 0, 'min_child_weight': 5.0, 'n_estimators': 282.0, 'subsample': 0.65, 'eta': 0.35000000000000003, 'objective': 'binary:logistic', 'max_depth': 3.0, 'gamma': 0.65, 'booster': 'gbtree'}\n",
      "\tScore 0.740831691629\n",
      "\n",
      "\n",
      "Training with params : \n",
      "{'colsample_bytree': 0.5, 'silent': 0, 'min_child_weight': 10.0, 'n_estimators': 475.0, 'subsample': 0.65, 'eta': 0.30000000000000004, 'objective': 'binary:logistic', 'max_depth': 3.0, 'gamma': 1.0, 'booster': 'gbtree'}\n",
      "\tScore 0.740734042596\n",
      "\n",
      "\n",
      "Training with params : \n",
      "{'colsample_bytree': 0.8, 'silent': 0, 'min_child_weight': 4.0, 'n_estimators': 300.0, 'subsample': 0.5, 'eta': 0.25, 'objective': 'binary:logistic', 'max_depth': 1.0, 'gamma': 0.5, 'booster': 'gbtree'}\n",
      "\tScore 0.743340038793\n",
      "\n",
      "\n",
      "Training with params : \n",
      "{'colsample_bytree': 0.65, 'silent': 0, 'min_child_weight': 5.0, 'n_estimators': 117.0, 'subsample': 0.7000000000000001, 'eta': 0.15000000000000002, 'objective': 'binary:logistic', 'max_depth': 3.0, 'gamma': 0.9500000000000001, 'booster': 'gbtree'}\n",
      "\tScore 0.768465992553\n",
      "\n",
      "\n",
      "Training with params : \n",
      "{'colsample_bytree': 0.9500000000000001, 'silent': 0, 'min_child_weight': 8.0, 'n_estimators': 606.0, 'subsample': 0.8, 'eta': 0.42500000000000004, 'objective': 'binary:logistic', 'max_depth': 1.0, 'gamma': 0.55, 'booster': 'gbtree'}\n",
      "\tScore 0.735817038244\n",
      "\n",
      "\n",
      "Training with params : \n",
      "{'colsample_bytree': 0.8500000000000001, 'silent': 0, 'min_child_weight': 6.0, 'n_estimators': 675.0, 'subsample': 0.6000000000000001, 'eta': 0.325, 'objective': 'binary:logistic', 'max_depth': 2.0, 'gamma': 0.7000000000000001, 'booster': 'gbtree'}\n",
      "\tScore 0.752912925012\n",
      "\n",
      "\n",
      "Training with params : \n",
      "{'colsample_bytree': 0.75, 'silent': 0, 'min_child_weight': 4.0, 'n_estimators': 431.0, 'subsample': 0.8, 'eta': 0.25, 'objective': 'binary:logistic', 'max_depth': 3.0, 'gamma': 0.65, 'booster': 'gbtree'}\n",
      "\tScore 0.747427234554\n",
      "\n",
      "\n",
      "Training with params : \n",
      "{'colsample_bytree': 1.0, 'silent': 0, 'min_child_weight': 3.0, 'n_estimators': 999.0, 'subsample': 0.7000000000000001, 'eta': 0.225, 'objective': 'binary:logistic', 'max_depth': 1.0, 'gamma': 0.8, 'booster': 'gbtree'}\n",
      "\tScore 0.736724364017\n",
      "\n",
      "\n",
      "Training with params : \n",
      "{'colsample_bytree': 0.9500000000000001, 'silent': 0, 'min_child_weight': 8.0, 'n_estimators': 254.0, 'subsample': 0.8, 'eta': 0.15000000000000002, 'objective': 'binary:logistic', 'max_depth': 2.0, 'gamma': 0.55, 'booster': 'gbtree'}\n",
      "\tScore 0.776901479254\n",
      "\n",
      "\n",
      "Training with params : \n",
      "{'colsample_bytree': 0.9, 'silent': 0, 'min_child_weight': 10.0, 'n_estimators': 865.0, 'subsample': 0.5, 'eta': 0.125, 'objective': 'binary:logistic', 'max_depth': 4.0, 'gamma': 0.55, 'booster': 'gbtree'}\n",
      "\tScore 0.753404214528\n",
      "\n",
      "\n",
      "Training with params : \n",
      "{'colsample_bytree': 0.7000000000000001, 'silent': 0, 'min_child_weight': 9.0, 'n_estimators': 260.0, 'subsample': 0.6000000000000001, 'eta': 0.15000000000000002, 'objective': 'binary:logistic', 'max_depth': 4.0, 'gamma': 0.5, 'booster': 'gbtree'}\n",
      "\tScore 0.75762747093\n",
      "\n",
      "\n",
      "Training with params : \n",
      "{'colsample_bytree': 0.8, 'silent': 0, 'min_child_weight': 9.0, 'n_estimators': 121.0, 'subsample': 0.6000000000000001, 'eta': 0.225, 'objective': 'binary:logistic', 'max_depth': 2.0, 'gamma': 0.65, 'booster': 'gbtree'}\n",
      "\tScore 0.769302583812\n",
      "\n",
      "\n",
      "Training with params : \n",
      "{'colsample_bytree': 0.6000000000000001, 'silent': 0, 'min_child_weight': 8.0, 'n_estimators': 517.0, 'subsample': 1.0, 'eta': 0.2, 'objective': 'binary:logistic', 'max_depth': 5.0, 'gamma': 0.55, 'booster': 'gbtree'}\n",
      "\tScore 0.747598002615\n",
      "\n",
      "\n",
      "Training with params : \n",
      "{'colsample_bytree': 0.8500000000000001, 'silent': 0, 'min_child_weight': 2.0, 'n_estimators': 218.0, 'subsample': 0.75, 'eta': 0.17500000000000002, 'objective': 'binary:logistic', 'max_depth': 3.0, 'gamma': 0.7000000000000001, 'booster': 'gbtree'}\n",
      "\tScore 0.773904873273\n",
      "\n",
      "\n",
      "Training with params : \n",
      "{'colsample_bytree': 0.5, 'silent': 0, 'min_child_weight': 1.0, 'n_estimators': 106.0, 'subsample': 0.55, 'eta': 0.025, 'objective': 'binary:logistic', 'max_depth': 2.0, 'gamma': 0.6000000000000001, 'booster': 'gbtree'}\n",
      "\tScore 0.748879000841\n",
      "\n",
      "\n",
      "Training with params : \n",
      "{'colsample_bytree': 0.75, 'silent': 0, 'min_child_weight': 3.0, 'n_estimators': 333.0, 'subsample': 0.8, 'eta': 0.125, 'objective': 'binary:logistic', 'max_depth': 1.0, 'gamma': 0.55, 'booster': 'gbtree'}\n",
      "\tScore 0.741310437418\n",
      "\n",
      "\n",
      "Training with params : \n",
      "{'colsample_bytree': 0.7000000000000001, 'silent': 0, 'min_child_weight': 6.0, 'n_estimators': 155.0, 'subsample': 0.9, 'eta': 0.15000000000000002, 'objective': 'binary:logistic', 'max_depth': 1.0, 'gamma': 0.65, 'booster': 'gbtree'}\n",
      "\tScore 0.739191384915\n",
      "\n",
      "\n",
      "Training with params : \n",
      "{'colsample_bytree': 0.8, 'silent': 0, 'min_child_weight': 2.0, 'n_estimators': 408.0, 'subsample': 0.7000000000000001, 'eta': 0.05, 'objective': 'binary:logistic', 'max_depth': 2.0, 'gamma': 0.5, 'booster': 'gbtree'}\n",
      "\tScore 0.777866124375\n",
      "\n",
      "\n",
      "Training with params : \n",
      "{'colsample_bytree': 0.9, 'silent': 0, 'min_child_weight': 7.0, 'n_estimators': 406.0, 'subsample': 0.7000000000000001, 'eta': 0.025, 'objective': 'binary:logistic', 'max_depth': 3.0, 'gamma': 0.5, 'booster': 'gbtree'}\n",
      "\tScore 0.779715858765\n",
      "\n",
      "\n",
      "Training with params : \n",
      "{'colsample_bytree': 0.8500000000000001, 'silent': 0, 'min_child_weight': 7.0, 'n_estimators': 662.0, 'subsample': 0.7000000000000001, 'eta': 0.025, 'objective': 'binary:logistic', 'max_depth': 4.0, 'gamma': 0.5, 'booster': 'gbtree'}\n",
      "\tScore 0.777498458712\n",
      "\n",
      "\n",
      "Training with params : \n",
      "{'colsample_bytree': 0.9, 'silent': 0, 'min_child_weight': 5.0, 'n_estimators': 410.0, 'subsample': 0.65, 'eta': 0.05, 'objective': 'binary:logistic', 'max_depth': 3.0, 'gamma': 0.8, 'booster': 'gbtree'}\n",
      "\tScore 0.779224905994\n",
      "\n",
      "\n",
      "Training with params : \n",
      "{'colsample_bytree': 1.0, 'silent': 0, 'min_child_weight': 5.0, 'n_estimators': 360.0, 'subsample': 0.65, 'eta': 0.05, 'objective': 'binary:logistic', 'max_depth': 5.0, 'gamma': 0.8, 'booster': 'gbtree'}\n",
      "\tScore 0.772812761318\n",
      "\n",
      "\n",
      "Training with params : \n",
      "{'colsample_bytree': 0.9, 'silent': 0, 'min_child_weight': 6.0, 'n_estimators': 468.0, 'subsample': 0.55, 'eta': 0.025, 'objective': 'binary:logistic', 'max_depth': 3.0, 'gamma': 0.8, 'booster': 'gbtree'}\n",
      "\tScore 0.781804347169\n",
      "\n",
      "\n",
      "Training with params : \n",
      "{'colsample_bytree': 0.9500000000000001, 'silent': 0, 'min_child_weight': 7.0, 'n_estimators': 471.0, 'subsample': 0.5, 'eta': 0.125, 'objective': 'binary:logistic', 'max_depth': 5.0, 'gamma': 0.75, 'booster': 'gbtree'}\n",
      "\tScore 0.748541555708\n",
      "\n",
      "\n",
      "Training with params : \n",
      "{'colsample_bytree': 0.9, 'silent': 0, 'min_child_weight': 6.0, 'n_estimators': 531.0, 'subsample': 0.55, 'eta': 0.07500000000000001, 'objective': 'binary:logistic', 'max_depth': 4.0, 'gamma': 0.9500000000000001, 'booster': 'gbtree'}\n",
      "\tScore 0.772766818469\n",
      "\n",
      "\n",
      "Training with params : \n",
      "{'colsample_bytree': 0.9, 'silent': 0, 'min_child_weight': 6.0, 'n_estimators': 850.0, 'subsample': 0.75, 'eta': 0.025, 'objective': 'binary:logistic', 'max_depth': 3.0, 'gamma': 0.8, 'booster': 'gbtree'}\n",
      "\tScore 0.780505785905\n",
      "\n",
      "\n",
      "Training with params : \n",
      "{'colsample_bytree': 0.8500000000000001, 'silent': 0, 'min_child_weight': 4.0, 'n_estimators': 902.0, 'subsample': 0.75, 'eta': 0.4, 'objective': 'binary:logistic', 'max_depth': 4.0, 'gamma': 0.8, 'booster': 'gbtree'}\n",
      "\tScore 0.68965343228\n",
      "\n",
      "\n",
      "Training with params : \n",
      "{'colsample_bytree': 1.0, 'silent': 0, 'min_child_weight': 6.0, 'n_estimators': 810.0, 'subsample': 0.9, 'eta': 0.47500000000000003, 'objective': 'binary:logistic', 'max_depth': 5.0, 'gamma': 0.75, 'booster': 'gbtree'}\n",
      "\tScore 0.696456644075\n",
      "\n",
      "\n",
      "Training with params : \n",
      "{'colsample_bytree': 0.9500000000000001, 'silent': 0, 'min_child_weight': 6.0, 'n_estimators': 974.0, 'subsample': 0.75, 'eta': 0.1, 'objective': 'binary:logistic', 'max_depth': 3.0, 'gamma': 0.8500000000000001, 'booster': 'gbtree'}\n",
      "\tScore 0.760914043368\n",
      "\n",
      "\n",
      "Training with params : \n",
      "{'colsample_bytree': 1.0, 'silent': 0, 'min_child_weight': 9.0, 'n_estimators': 725.0, 'subsample': 1.0, 'eta': 0.07500000000000001, 'objective': 'binary:logistic', 'max_depth': 4.0, 'gamma': 0.9, 'booster': 'gbtree'}\n",
      "\tScore 0.772708243156\n",
      "\n",
      "\n",
      "Training with params : \n",
      "{'colsample_bytree': 0.8500000000000001, 'silent': 0, 'min_child_weight': 8.0, 'n_estimators': 868.0, 'subsample': 0.55, 'eta': 0.17500000000000002, 'objective': 'binary:logistic', 'max_depth': 3.0, 'gamma': 0.9500000000000001, 'booster': 'gbtree'}\n",
      "\tScore 0.750456720889\n",
      "\n",
      "\n",
      "Training with params : \n",
      "{'colsample_bytree': 0.8, 'silent': 0, 'min_child_weight': 7.0, 'n_estimators': 636.0, 'subsample': 0.8500000000000001, 'eta': 0.025, 'objective': 'binary:logistic', 'max_depth': 2.0, 'gamma': 0.7000000000000001, 'booster': 'gbtree'}\n",
      "\tScore 0.777633347574\n",
      "\n",
      "\n",
      "Training with params : \n",
      "{'colsample_bytree': 0.9500000000000001, 'silent': 0, 'min_child_weight': 5.0, 'n_estimators': 717.0, 'subsample': 0.6000000000000001, 'eta': 0.30000000000000004, 'objective': 'binary:logistic', 'max_depth': 4.0, 'gamma': 0.8500000000000001, 'booster': 'gbtree'}\n",
      "\tScore 0.720857591819\n",
      "\n",
      "\n",
      "Training with params : \n",
      "{'colsample_bytree': 0.9, 'silent': 0, 'min_child_weight': 8.0, 'n_estimators': 784.0, 'subsample': 0.8, 'eta': 0.5, 'objective': 'binary:logistic', 'max_depth': 3.0, 'gamma': 0.9, 'booster': 'gbtree'}\n",
      "\tScore 0.719235237219\n",
      "\n",
      "\n",
      "Training with params : \n",
      "{'colsample_bytree': 0.75, 'silent': 0, 'min_child_weight': 4.0, 'n_estimators': 558.0, 'subsample': 0.5, 'eta': 0.35000000000000003, 'objective': 'binary:logistic', 'max_depth': 6.0, 'gamma': 0.8500000000000001, 'booster': 'gbtree'}\n",
      "\tScore 0.679048201676\n",
      "\n",
      "\n",
      "Training with params : \n",
      "{'colsample_bytree': 0.9500000000000001, 'silent': 0, 'min_child_weight': 6.0, 'n_estimators': 932.0, 'subsample': 0.75, 'eta': 0.1, 'objective': 'binary:logistic', 'max_depth': 2.0, 'gamma': 0.8, 'booster': 'gbtree'}\n",
      "\tScore 0.769408123584\n",
      "\n",
      "\n",
      "Training with params : \n",
      "{'colsample_bytree': 1.0, 'silent': 0, 'min_child_weight': 5.0, 'n_estimators': 818.0, 'subsample': 0.8500000000000001, 'eta': 0.05, 'objective': 'binary:logistic', 'max_depth': 5.0, 'gamma': 0.75, 'booster': 'gbtree'}\n",
      "\tScore 0.764302583357\n",
      "\n",
      "\n",
      "Training with params : \n",
      "{'colsample_bytree': 0.8, 'silent': 0, 'min_child_weight': 4.0, 'n_estimators': 597.0, 'subsample': 0.7000000000000001, 'eta': 0.2, 'objective': 'binary:logistic', 'max_depth': 7.0, 'gamma': 0.9500000000000001, 'booster': 'gbtree'}\n",
      "\tScore 0.71143268426\n",
      "\n",
      "\n",
      "Training with params : \n",
      "{'colsample_bytree': 0.9, 'silent': 0, 'min_child_weight': 9.0, 'n_estimators': 483.0, 'subsample': 0.65, 'eta': 0.125, 'objective': 'binary:logistic', 'max_depth': 2.0, 'gamma': 0.9, 'booster': 'gbtree'}\n",
      "\tScore 0.774027561978\n",
      "\n",
      "\n",
      "Training with params : \n",
      "{'colsample_bytree': 0.8500000000000001, 'silent': 0, 'min_child_weight': 10.0, 'n_estimators': 702.0, 'subsample': 0.8, 'eta': 0.07500000000000001, 'objective': 'binary:logistic', 'max_depth': 3.0, 'gamma': 0.75, 'booster': 'gbtree'}\n",
      "\tScore 0.771845881853\n",
      "\n",
      "\n",
      "Training with params : \n",
      "{'colsample_bytree': 0.75, 'silent': 0, 'min_child_weight': 3.0, 'n_estimators': 581.0, 'subsample': 0.9, 'eta': 0.25, 'objective': 'binary:logistic', 'max_depth': 4.0, 'gamma': 0.7000000000000001, 'booster': 'gbtree'}\n",
      "\tScore 0.737800862866\n",
      "\n",
      "\n",
      "Training with params : \n",
      "{'colsample_bytree': 0.65, 'silent': 0, 'min_child_weight': 7.0, 'n_estimators': 449.0, 'subsample': 0.55, 'eta': 0.17500000000000002, 'objective': 'binary:logistic', 'max_depth': 1.0, 'gamma': 0.8500000000000001, 'booster': 'gbtree'}\n",
      "\tScore 0.745290771458\n",
      "\n",
      "\n",
      "Training with params : \n",
      "{'colsample_bytree': 0.9500000000000001, 'silent': 0, 'min_child_weight': 6.0, 'n_estimators': 757.0, 'subsample': 0.65, 'eta': 0.225, 'objective': 'binary:logistic', 'max_depth': 2.0, 'gamma': 0.8, 'booster': 'gbtree'}\n",
      "\tScore 0.761880055943\n",
      "\n",
      "\n",
      "Training with params : \n",
      "{'colsample_bytree': 0.8, 'silent': 0, 'min_child_weight': 5.0, 'n_estimators': 624.0, 'subsample': 0.6000000000000001, 'eta': 0.42500000000000004, 'objective': 'binary:logistic', 'max_depth': 3.0, 'gamma': 1.0, 'booster': 'gbtree'}\n",
      "\tScore 0.719570991805\n",
      "\n",
      "\n",
      "Training with params : \n",
      "{'colsample_bytree': 0.9, 'silent': 0, 'min_child_weight': 7.0, 'n_estimators': 377.0, 'subsample': 0.7000000000000001, 'eta': 0.025, 'objective': 'binary:logistic', 'max_depth': 3.0, 'gamma': 0.8, 'booster': 'gbtree'}\n",
      "\tScore 0.779866358458\n",
      "\n",
      "\n",
      "Training with params : \n",
      "{'colsample_bytree': 0.9, 'silent': 0, 'min_child_weight': 7.0, 'n_estimators': 322.0, 'subsample': 0.75, 'eta': 0.025, 'objective': 'binary:logistic', 'max_depth': 3.0, 'gamma': 0.8, 'booster': 'gbtree'}\n",
      "\tScore 0.780457995512\n",
      "\n",
      "\n",
      "Training with params : \n",
      "{'colsample_bytree': 0.8500000000000001, 'silent': 0, 'min_child_weight': 8.0, 'n_estimators': 325.0, 'subsample': 0.75, 'eta': 0.05, 'objective': 'binary:logistic', 'max_depth': 3.0, 'gamma': 0.75, 'booster': 'gbtree'}\n",
      "\tScore 0.78016016562\n",
      "\n",
      "\n",
      "Training with params : \n",
      "{'colsample_bytree': 1.0, 'silent': 0, 'min_child_weight': 7.0, 'n_estimators': 533.0, 'subsample': 0.8, 'eta': 0.07500000000000001, 'objective': 'binary:logistic', 'max_depth': 4.0, 'gamma': 0.9, 'booster': 'gbtree'}\n",
      "\tScore 0.774298026842\n",
      "\n",
      "\n",
      "Training with params : \n",
      "{'colsample_bytree': 0.9500000000000001, 'silent': 0, 'min_child_weight': 6.0, 'n_estimators': 307.0, 'subsample': 0.75, 'eta': 0.1, 'objective': 'binary:logistic', 'max_depth': 3.0, 'gamma': 0.7000000000000001, 'booster': 'gbtree'}\n",
      "\tScore 0.777034538775\n",
      "\n",
      "\n",
      "Training with params : \n",
      "{'colsample_bytree': 0.8500000000000001, 'silent': 0, 'min_child_weight': 8.0, 'n_estimators': 190.0, 'subsample': 0.8500000000000001, 'eta': 0.025, 'objective': 'binary:logistic', 'max_depth': 2.0, 'gamma': 0.8500000000000001, 'booster': 'gbtree'}\n",
      "\tScore 0.768276476023\n",
      "\n",
      "\n",
      "Training with params : \n",
      "{'colsample_bytree': 0.9, 'silent': 0, 'min_child_weight': 6.0, 'n_estimators': 442.0, 'subsample': 0.8500000000000001, 'eta': 0.05, 'objective': 'binary:logistic', 'max_depth': 3.0, 'gamma': 0.75, 'booster': 'gbtree'}\n",
      "\tScore 0.778437820703\n",
      "\n",
      "\n",
      "Training with params : \n",
      "{'colsample_bytree': 0.8, 'silent': 0, 'min_child_weight': 5.0, 'n_estimators': 152.0, 'subsample': 0.7000000000000001, 'eta': 0.125, 'objective': 'binary:logistic', 'max_depth': 4.0, 'gamma': 0.8500000000000001, 'booster': 'gbtree'}\n",
      "\tScore 0.771044705633\n",
      "\n",
      "\n",
      "Training with params : \n",
      "{'colsample_bytree': 0.9, 'silent': 0, 'min_child_weight': 9.0, 'n_estimators': 243.0, 'subsample': 0.8, 'eta': 0.15000000000000002, 'objective': 'binary:logistic', 'max_depth': 2.0, 'gamma': 0.8, 'booster': 'gbtree'}\n",
      "\tScore 0.776215128303\n",
      "\n",
      "\n",
      "Training with params : \n",
      "{'colsample_bytree': 0.9500000000000001, 'silent': 0, 'min_child_weight': 7.0, 'n_estimators': 502.0, 'subsample': 0.65, 'eta': 0.07500000000000001, 'objective': 'binary:logistic', 'max_depth': 1.0, 'gamma': 0.65, 'booster': 'gbtree'}\n",
      "\tScore 0.741846982643\n",
      "\n",
      "\n",
      "Training with params : \n",
      "{'colsample_bytree': 0.8500000000000001, 'silent': 0, 'min_child_weight': 8.0, 'n_estimators': 277.0, 'subsample': 0.75, 'eta': 0.1, 'objective': 'binary:logistic', 'max_depth': 4.0, 'gamma': 0.8, 'booster': 'gbtree'}\n",
      "\tScore 0.775724689749\n",
      "\n",
      "\n",
      "Training with params : \n",
      "{'colsample_bytree': 1.0, 'silent': 0, 'min_child_weight': 6.0, 'n_estimators': 355.0, 'subsample': 0.8, 'eta': 0.025, 'objective': 'binary:logistic', 'max_depth': 3.0, 'gamma': 0.9, 'booster': 'gbtree'}\n",
      "\tScore 0.7793231102\n",
      "\n",
      "\n",
      "Training with params : \n",
      "{'colsample_bytree': 0.9, 'silent': 0, 'min_child_weight': 4.0, 'n_estimators': 676.0, 'subsample': 0.9, 'eta': 0.07500000000000001, 'objective': 'binary:logistic', 'max_depth': 3.0, 'gamma': 0.7000000000000001, 'booster': 'gbtree'}\n",
      "\tScore 0.773364221132\n",
      "\n",
      "\n",
      "Training with params : \n",
      "{'colsample_bytree': 0.7000000000000001, 'silent': 0, 'min_child_weight': 7.0, 'n_estimators': 383.0, 'subsample': 0.7000000000000001, 'eta': 0.05, 'objective': 'binary:logistic', 'max_depth': 2.0, 'gamma': 0.75, 'booster': 'gbtree'}\n",
      "\tScore 0.773465831462\n",
      "\n",
      "\n",
      "Training with params : \n",
      "{'colsample_bytree': 0.55, 'silent': 0, 'min_child_weight': 5.0, 'n_estimators': 314.0, 'subsample': 0.75, 'eta': 0.1, 'objective': 'binary:logistic', 'max_depth': 4.0, 'gamma': 0.8500000000000001, 'booster': 'gbtree'}\n",
      "\tScore 0.764353677485\n",
      "\n",
      "\n",
      "Training with params : \n",
      "{'colsample_bytree': 0.8, 'silent': 0, 'min_child_weight': 10.0, 'n_estimators': 218.0, 'subsample': 0.9500000000000001, 'eta': 0.30000000000000004, 'objective': 'binary:logistic', 'max_depth': 2.0, 'gamma': 0.9500000000000001, 'booster': 'gbtree'}\n",
      "\tScore 0.765141754806\n",
      "\n",
      "\n",
      "Training with params : \n",
      "{'colsample_bytree': 0.9500000000000001, 'silent': 0, 'min_child_weight': 8.0, 'n_estimators': 545.0, 'subsample': 0.65, 'eta': 0.15000000000000002, 'objective': 'binary:logistic', 'max_depth': 1.0, 'gamma': 0.8, 'booster': 'gbtree'}\n",
      "\tScore 0.740364941219\n",
      "\n",
      "\n",
      "Training with params : \n",
      "{'colsample_bytree': 0.75, 'silent': 0, 'min_child_weight': 6.0, 'n_estimators': 504.0, 'subsample': 0.8500000000000001, 'eta': 0.125, 'objective': 'binary:logistic', 'max_depth': 5.0, 'gamma': 0.7000000000000001, 'booster': 'gbtree'}\n",
      "\tScore 0.752250080182\n",
      "\n",
      "\n",
      "Training with params : \n",
      "{'colsample_bytree': 0.8500000000000001, 'silent': 0, 'min_child_weight': 7.0, 'n_estimators': 426.0, 'subsample': 0.6000000000000001, 'eta': 0.025, 'objective': 'binary:logistic', 'max_depth': 3.0, 'gamma': 0.65, 'booster': 'gbtree'}\n",
      "\tScore 0.780004910552\n",
      "\n",
      "\n",
      "Training with params : \n",
      "{'colsample_bytree': 1.0, 'silent': 0, 'min_child_weight': 9.0, 'n_estimators': 463.0, 'subsample': 0.8, 'eta': 0.05, 'objective': 'binary:logistic', 'max_depth': 4.0, 'gamma': 0.9, 'booster': 'gbtree'}\n",
      "\tScore 0.777098998013\n",
      "\n",
      "\n",
      "Training with params : \n",
      "{'colsample_bytree': 0.9, 'silent': 0, 'min_child_weight': 5.0, 'n_estimators': 997.0, 'subsample': 0.7000000000000001, 'eta': 0.375, 'objective': 'binary:logistic', 'max_depth': 1.0, 'gamma': 0.75, 'booster': 'gbtree'}\n",
      "\tScore 0.735745332177\n",
      "\n",
      "\n",
      "Training with params : \n",
      "{'colsample_bytree': 0.9500000000000001, 'silent': 0, 'min_child_weight': 4.0, 'n_estimators': 352.0, 'subsample': 0.75, 'eta': 0.2, 'objective': 'binary:logistic', 'max_depth': 3.0, 'gamma': 0.8500000000000001, 'booster': 'gbtree'}\n",
      "\tScore 0.762183303324\n",
      "\n",
      "\n",
      "Training with params : \n",
      "{'colsample_bytree': 1.0, 'silent': 0, 'min_child_weight': 7.0, 'n_estimators': 575.0, 'subsample': 0.55, 'eta': 0.07500000000000001, 'objective': 'binary:logistic', 'max_depth': 5.0, 'gamma': 0.8, 'booster': 'gbtree'}\n",
      "\tScore 0.766592847605\n",
      "\n",
      "\n",
      "Training with params : \n",
      "{'colsample_bytree': 0.8500000000000001, 'silent': 0, 'min_child_weight': 3.0, 'n_estimators': 264.0, 'subsample': 0.9, 'eta': 0.1, 'objective': 'binary:logistic', 'max_depth': 2.0, 'gamma': 0.8500000000000001, 'booster': 'gbtree'}\n",
      "\tScore 0.777769285348\n",
      "\n",
      "\n",
      "Training with params : \n",
      "{'colsample_bytree': 0.8, 'silent': 0, 'min_child_weight': 6.0, 'n_estimators': 842.0, 'subsample': 0.6000000000000001, 'eta': 0.325, 'objective': 'binary:logistic', 'max_depth': 3.0, 'gamma': 0.9500000000000001, 'booster': 'gbtree'}\n",
      "\tScore 0.717561030816\n",
      "\n",
      "\n",
      "Training with params : \n",
      "{'colsample_bytree': 0.75, 'silent': 0, 'min_child_weight': 2.0, 'n_estimators': 650.0, 'subsample': 0.9500000000000001, 'eta': 0.275, 'objective': 'binary:logistic', 'max_depth': 6.0, 'gamma': 0.65, 'booster': 'gbtree'}\n",
      "\tScore 0.710890999133\n",
      "\n",
      "\n",
      "Training with params : \n",
      "{'colsample_bytree': 0.9, 'silent': 0, 'min_child_weight': 8.0, 'n_estimators': 748.0, 'subsample': 0.8, 'eta': 0.17500000000000002, 'objective': 'binary:logistic', 'max_depth': 4.0, 'gamma': 0.6000000000000001, 'booster': 'gbtree'}\n",
      "\tScore 0.741476406872\n",
      "\n",
      "\n",
      "Training with params : \n",
      "{'colsample_bytree': 0.9500000000000001, 'silent': 0, 'min_child_weight': 5.0, 'n_estimators': 697.0, 'subsample': 0.65, 'eta': 0.125, 'objective': 'binary:logistic', 'max_depth': 2.0, 'gamma': 1.0, 'booster': 'gbtree'}\n",
      "\tScore 0.769586693647\n",
      "\n",
      "\n",
      "Training with params : \n",
      "{'colsample_bytree': 0.6000000000000001, 'silent': 0, 'min_child_weight': 7.0, 'n_estimators': 893.0, 'subsample': 0.7000000000000001, 'eta': 0.225, 'objective': 'binary:logistic', 'max_depth': 4.0, 'gamma': 0.8, 'booster': 'gbtree'}\n",
      "\tScore 0.725297606913\n",
      "\n",
      "\n",
      "Training with params : \n",
      "{'colsample_bytree': 0.9, 'silent': 0, 'min_child_weight': 6.0, 'n_estimators': 379.0, 'subsample': 0.75, 'eta': 0.025, 'objective': 'binary:logistic', 'max_depth': 3.0, 'gamma': 0.75, 'booster': 'gbtree'}\n",
      "\tScore 0.780109503799\n",
      "\n",
      "\n",
      "Training with params : \n",
      "{'colsample_bytree': 0.8500000000000001, 'silent': 0, 'min_child_weight': 4.0, 'n_estimators': 939.0, 'subsample': 0.5, 'eta': 0.25, 'objective': 'binary:logistic', 'max_depth': 2.0, 'gamma': 0.9, 'booster': 'gbtree'}\n",
      "\tScore 0.75655851925\n",
      "\n",
      "\n",
      "Training with params : \n",
      "{'colsample_bytree': 0.7000000000000001, 'silent': 0, 'min_child_weight': 6.0, 'n_estimators': 621.0, 'subsample': 0.8500000000000001, 'eta': 0.05, 'objective': 'binary:logistic', 'max_depth': 1.0, 'gamma': 0.7000000000000001, 'booster': 'gbtree'}\n",
      "\tScore 0.742027429829\n",
      "\n",
      "\n",
      "Training with params : \n",
      "{'colsample_bytree': 0.8, 'silent': 0, 'min_child_weight': 5.0, 'n_estimators': 167.0, 'subsample': 0.7000000000000001, 'eta': 0.2, 'objective': 'binary:logistic', 'max_depth': 5.0, 'gamma': 0.8500000000000001, 'booster': 'gbtree'}\n",
      "\tScore 0.753508876035\n",
      "\n",
      "\n",
      "Training with params : \n",
      "{'colsample_bytree': 0.9500000000000001, 'silent': 0, 'min_child_weight': 8.0, 'n_estimators': 289.0, 'subsample': 0.65, 'eta': 0.15000000000000002, 'objective': 'binary:logistic', 'max_depth': 3.0, 'gamma': 0.7000000000000001, 'booster': 'gbtree'}\n",
      "\tScore 0.775543901269\n",
      "\n",
      "\n",
      "Training with params : \n",
      "{'colsample_bytree': 0.9, 'silent': 0, 'min_child_weight': 9.0, 'n_estimators': 799.0, 'subsample': 0.8, 'eta': 0.5, 'objective': 'binary:logistic', 'max_depth': 4.0, 'gamma': 0.75, 'booster': 'gbtree'}\n",
      "\tScore 0.707127548927\n",
      "\n",
      "\n",
      "Training with params : \n",
      "{'colsample_bytree': 1.0, 'silent': 0, 'min_child_weight': 7.0, 'n_estimators': 418.0, 'subsample': 0.6000000000000001, 'eta': 0.35000000000000003, 'objective': 'binary:logistic', 'max_depth': 3.0, 'gamma': 0.8, 'booster': 'gbtree'}\n",
      "\tScore 0.744739832687\n",
      "\n",
      "\n",
      "Training with params : \n",
      "{'colsample_bytree': 0.7000000000000001, 'silent': 0, 'min_child_weight': 4.0, 'n_estimators': 337.0, 'subsample': 0.5, 'eta': 0.1, 'objective': 'binary:logistic', 'max_depth': 2.0, 'gamma': 0.9, 'booster': 'gbtree'}\n",
      "\tScore 0.773643682531\n",
      "\n",
      "\n",
      "Training with params : \n",
      "{'colsample_bytree': 0.8500000000000001, 'silent': 0, 'min_child_weight': 6.0, 'n_estimators': 137.0, 'subsample': 0.75, 'eta': 0.07500000000000001, 'objective': 'binary:logistic', 'max_depth': 4.0, 'gamma': 0.75, 'booster': 'gbtree'}\n",
      "\tScore 0.781096562896\n",
      "\n",
      "\n",
      "Training with params : \n",
      "{'colsample_bytree': 0.8500000000000001, 'silent': 0, 'min_child_weight': 5.0, 'n_estimators': 126.0, 'subsample': 0.7000000000000001, 'eta': 0.17500000000000002, 'objective': 'binary:logistic', 'max_depth': 6.0, 'gamma': 0.65, 'booster': 'gbtree'}\n",
      "\tScore 0.766386976221\n",
      "\n",
      "\n",
      "Training with params : \n",
      "{'colsample_bytree': 0.8, 'silent': 0, 'min_child_weight': 3.0, 'n_estimators': 901.0, 'subsample': 1.0, 'eta': 0.47500000000000003, 'objective': 'binary:logistic', 'max_depth': 5.0, 'gamma': 0.6000000000000001, 'booster': 'gbtree'}\n",
      "\tScore 0.702981457036\n",
      "\n",
      "\n",
      "Training with params : \n",
      "{'colsample_bytree': 0.75, 'silent': 0, 'min_child_weight': 5.0, 'n_estimators': 851.0, 'subsample': 0.55, 'eta': 0.05, 'objective': 'binary:logistic', 'max_depth': 5.0, 'gamma': 0.75, 'booster': 'gbtree'}\n",
      "\tScore 0.765695435312\n",
      "\n",
      "\n",
      "Training with params : \n",
      "{'colsample_bytree': 0.8500000000000001, 'silent': 0, 'min_child_weight': 6.0, 'n_estimators': 767.0, 'subsample': 0.8500000000000001, 'eta': 0.07500000000000001, 'objective': 'binary:logistic', 'max_depth': 4.0, 'gamma': 0.7000000000000001, 'booster': 'gbtree'}\n",
      "\tScore 0.765006197006\n",
      "\n",
      "\n",
      "Training with params : \n",
      "{'colsample_bytree': 0.8500000000000001, 'silent': 0, 'min_child_weight': 4.0, 'n_estimators': 985.0, 'subsample': 0.8, 'eta': 0.125, 'objective': 'binary:logistic', 'max_depth': 7.0, 'gamma': 0.65, 'booster': 'gbtree'}\n",
      "\tScore 0.717345068479\n",
      "\n",
      "\n",
      "Training with params : \n",
      "{'colsample_bytree': 0.65, 'silent': 0, 'min_child_weight': 6.0, 'n_estimators': 684.0, 'subsample': 0.75, 'eta': 0.275, 'objective': 'binary:logistic', 'max_depth': 4.0, 'gamma': 0.75, 'booster': 'gbtree'}\n",
      "\tScore 0.717205940734\n",
      "\n",
      "\n",
      "Training with params : \n",
      "{'colsample_bytree': 0.8, 'silent': 0, 'min_child_weight': 5.0, 'n_estimators': 105.0, 'subsample': 0.7000000000000001, 'eta': 0.42500000000000004, 'objective': 'binary:logistic', 'max_depth': 5.0, 'gamma': 0.8500000000000001, 'booster': 'gbtree'}\n",
      "\tScore 0.718349185497\n",
      "\n",
      "\n",
      "Training with params : \n",
      "{'colsample_bytree': 0.9500000000000001, 'silent': 0, 'min_child_weight': 4.0, 'n_estimators': 953.0, 'subsample': 0.65, 'eta': 0.07500000000000001, 'objective': 'binary:logistic', 'max_depth': 4.0, 'gamma': 0.7000000000000001, 'booster': 'gbtree'}\n",
      "\tScore 0.761929725734\n",
      "\n",
      "\n",
      "Training with params : \n",
      "{'colsample_bytree': 0.9, 'silent': 0, 'min_child_weight': 6.0, 'n_estimators': 826.0, 'subsample': 0.9, 'eta': 0.225, 'objective': 'binary:logistic', 'max_depth': 4.0, 'gamma': 0.6000000000000001, 'booster': 'gbtree'}\n",
      "\tScore 0.73337973276\n",
      "\n",
      "\n",
      "Training with params : \n",
      "{'colsample_bytree': 0.8, 'silent': 0, 'min_child_weight': 7.0, 'n_estimators': 736.0, 'subsample': 0.8500000000000001, 'eta': 0.45, 'objective': 'binary:logistic', 'max_depth': 5.0, 'gamma': 0.8, 'booster': 'gbtree'}\n",
      "\tScore 0.681257144441\n",
      "\n",
      "\n",
      "Training with params : \n",
      "{'colsample_bytree': 0.75, 'silent': 0, 'min_child_weight': 5.0, 'n_estimators': 198.0, 'subsample': 0.8, 'eta': 0.15000000000000002, 'objective': 'binary:logistic', 'max_depth': 3.0, 'gamma': 0.9500000000000001, 'booster': 'gbtree'}\n",
      "\tScore 0.768230221458\n",
      "\n",
      "\n",
      "Training with params : \n",
      "{'colsample_bytree': 0.9500000000000001, 'silent': 0, 'min_child_weight': 8.0, 'n_estimators': 486.0, 'subsample': 0.75, 'eta': 0.025, 'objective': 'binary:logistic', 'max_depth': 3.0, 'gamma': 0.8, 'booster': 'gbtree'}\n",
      "\tScore 0.780529813069\n",
      "\n",
      "\n",
      "Training with params : \n",
      "{'colsample_bytree': 1.0, 'silent': 0, 'min_child_weight': 9.0, 'n_estimators': 484.0, 'subsample': 0.6000000000000001, 'eta': 0.05, 'objective': 'binary:logistic', 'max_depth': 4.0, 'gamma': 0.75, 'booster': 'gbtree'}\n",
      "\tScore 0.775786354919\n",
      "\n",
      "\n",
      "Training with params : \n",
      "{'colsample_bytree': 0.9500000000000001, 'silent': 0, 'min_child_weight': 10.0, 'n_estimators': 528.0, 'subsample': 0.75, 'eta': 0.17500000000000002, 'objective': 'binary:logistic', 'max_depth': 6.0, 'gamma': 0.7000000000000001, 'booster': 'gbtree'}\n",
      "\tScore 0.732498693523\n",
      "\n",
      "\n",
      "Training with params : \n",
      "{'colsample_bytree': 1.0, 'silent': 0, 'min_child_weight': 8.0, 'n_estimators': 231.0, 'subsample': 0.65, 'eta': 0.1, 'objective': 'binary:logistic', 'max_depth': 4.0, 'gamma': 0.8500000000000001, 'booster': 'gbtree'}\n",
      "\tScore 0.777681062882\n",
      "\n",
      "\n",
      "Training with params : \n",
      "{'colsample_bytree': 1.0, 'silent': 0, 'min_child_weight': 10.0, 'n_estimators': 605.0, 'subsample': 0.55, 'eta': 0.025, 'objective': 'binary:logistic', 'max_depth': 2.0, 'gamma': 0.75, 'booster': 'gbtree'}\n",
      "\tScore 0.780085776975\n",
      "\n",
      "\n",
      "Training with params : \n",
      "{'colsample_bytree': 0.9500000000000001, 'silent': 0, 'min_child_weight': 1.0, 'n_estimators': 454.0, 'subsample': 0.7000000000000001, 'eta': 0.125, 'objective': 'binary:logistic', 'max_depth': 7.0, 'gamma': 0.8, 'booster': 'gbtree'}\n",
      "\tScore 0.731998098032\n",
      "\n",
      "\n",
      "Training with params : \n",
      "{'colsample_bytree': 0.9, 'silent': 0, 'min_child_weight': 9.0, 'n_estimators': 586.0, 'subsample': 0.5, 'eta': 0.325, 'objective': 'binary:logistic', 'max_depth': 3.0, 'gamma': 0.9, 'booster': 'gbtree'}\n",
      "\tScore 0.737640618066\n",
      "\n",
      "\n",
      "Training with params : \n",
      "{'colsample_bytree': 0.8500000000000001, 'silent': 0, 'min_child_weight': 2.0, 'n_estimators': 549.0, 'subsample': 0.8, 'eta': 0.07500000000000001, 'objective': 'binary:logistic', 'max_depth': 5.0, 'gamma': 0.7000000000000001, 'booster': 'gbtree'}\n",
      "\tScore 0.765534191655\n",
      "\n",
      "\n",
      "Training with params : \n",
      "{'colsample_bytree': 1.0, 'silent': 0, 'min_child_weight': 8.0, 'n_estimators': 403.0, 'subsample': 0.75, 'eta': 0.4, 'objective': 'binary:logistic', 'max_depth': 3.0, 'gamma': 0.8500000000000001, 'booster': 'gbtree'}\n",
      "\tScore 0.741147368971\n",
      "\n",
      "\n",
      "Training with params : \n",
      "{'colsample_bytree': 0.9, 'silent': 0, 'min_child_weight': 9.0, 'n_estimators': 499.0, 'subsample': 0.9, 'eta': 0.025, 'objective': 'binary:logistic', 'max_depth': 1.0, 'gamma': 0.65, 'booster': 'gbtree'}\n",
      "\tScore 0.730106493578\n",
      "\n",
      "\n",
      "Training with params : \n",
      "{'colsample_bytree': 0.9500000000000001, 'silent': 0, 'min_child_weight': 7.0, 'n_estimators': 647.0, 'subsample': 0.7000000000000001, 'eta': 0.375, 'objective': 'binary:logistic', 'max_depth': 2.0, 'gamma': 0.8, 'booster': 'gbtree'}\n",
      "\tScore 0.753015968781\n",
      "\n",
      "\n",
      "Training with params : \n",
      "{'colsample_bytree': 0.8500000000000001, 'silent': 0, 'min_child_weight': 8.0, 'n_estimators': 431.0, 'subsample': 0.8500000000000001, 'eta': 0.2, 'objective': 'binary:logistic', 'max_depth': 4.0, 'gamma': 0.75, 'booster': 'gbtree'}\n",
      "\tScore 0.756044740672\n",
      "\n",
      "\n",
      "Training with params : \n",
      "{'colsample_bytree': 0.8, 'silent': 0, 'min_child_weight': 3.0, 'n_estimators': 204.0, 'subsample': 0.6000000000000001, 'eta': 0.05, 'objective': 'binary:logistic', 'max_depth': 3.0, 'gamma': 0.9500000000000001, 'booster': 'gbtree'}\n",
      "\tScore 0.777983108904\n",
      "\n",
      "\n",
      "Training with params : \n",
      "{'colsample_bytree': 0.65, 'silent': 0, 'min_child_weight': 10.0, 'n_estimators': 298.0, 'subsample': 0.65, 'eta': 0.15000000000000002, 'objective': 'binary:logistic', 'max_depth': 6.0, 'gamma': 0.8500000000000001, 'booster': 'gbtree'}\n",
      "\tScore 0.744118550754\n",
      "\n",
      "\n",
      "Training with params : \n",
      "{'colsample_bytree': 0.9500000000000001, 'silent': 0, 'min_child_weight': 9.0, 'n_estimators': 176.0, 'subsample': 0.9500000000000001, 'eta': 0.1, 'objective': 'binary:logistic', 'max_depth': 5.0, 'gamma': 0.8, 'booster': 'gbtree'}\n",
      "\tScore 0.777069341758\n",
      "\n",
      "\n",
      "Training with params : \n",
      "{'colsample_bytree': 0.8500000000000001, 'silent': 0, 'min_child_weight': 8.0, 'n_estimators': 568.0, 'subsample': 0.8, 'eta': 0.05, 'objective': 'binary:logistic', 'max_depth': 3.0, 'gamma': 0.9, 'booster': 'gbtree'}\n",
      "\tScore 0.776195121594\n",
      "\n",
      "\n",
      "Training with params : \n",
      "{'colsample_bytree': 0.75, 'silent': 0, 'min_child_weight': 7.0, 'n_estimators': 268.0, 'subsample': 0.75, 'eta': 0.30000000000000004, 'objective': 'binary:logistic', 'max_depth': 2.0, 'gamma': 0.75, 'booster': 'gbtree'}\n",
      "\tScore 0.759644139502\n",
      "\n",
      "\n",
      "Training with params : \n",
      "{'colsample_bytree': 0.9, 'silent': 0, 'min_child_weight': 10.0, 'n_estimators': 396.0, 'subsample': 0.7000000000000001, 'eta': 0.225, 'objective': 'binary:logistic', 'max_depth': 4.0, 'gamma': 0.55, 'booster': 'gbtree'}\n",
      "\tScore 0.747014329109\n",
      "\n",
      "\n",
      "Training with params : \n",
      "{'colsample_bytree': 1.0, 'silent': 0, 'min_child_weight': 8.0, 'n_estimators': 248.0, 'subsample': 0.75, 'eta': 0.07500000000000001, 'objective': 'binary:logistic', 'max_depth': 1.0, 'gamma': 0.7000000000000001, 'booster': 'gbtree'}\n",
      "\tScore 0.736806001767\n",
      "\n",
      "\n",
      "Training with params : \n",
      "{'colsample_bytree': 0.8, 'silent': 0, 'min_child_weight': 3.0, 'n_estimators': 359.0, 'subsample': 0.65, 'eta': 0.025, 'objective': 'binary:logistic', 'max_depth': 3.0, 'gamma': 0.65, 'booster': 'gbtree'}\n",
      "\tScore 0.777654974296\n",
      "\n",
      "\n",
      "Training with params : \n",
      "{'colsample_bytree': 0.7000000000000001, 'silent': 0, 'min_child_weight': 7.0, 'n_estimators': 135.0, 'subsample': 0.55, 'eta': 0.25, 'objective': 'binary:logistic', 'max_depth': 4.0, 'gamma': 1.0, 'booster': 'gbtree'}\n",
      "\tScore 0.755227523589\n",
      "\n",
      "\n",
      "Training with params : \n",
      "{'colsample_bytree': 0.9, 'silent': 0, 'min_child_weight': 6.0, 'n_estimators': 478.0, 'subsample': 0.8, 'eta': 0.125, 'objective': 'binary:logistic', 'max_depth': 5.0, 'gamma': 0.8500000000000001, 'booster': 'gbtree'}\n",
      "\tScore 0.756414881861\n",
      "\n",
      "\n",
      "Training with params : \n",
      "{'colsample_bytree': 0.9500000000000001, 'silent': 0, 'min_child_weight': 6.0, 'n_estimators': 713.0, 'subsample': 0.8500000000000001, 'eta': 0.1, 'objective': 'binary:logistic', 'max_depth': 2.0, 'gamma': 0.8, 'booster': 'gbtree'}\n",
      "\tScore 0.774382938748\n",
      "\n",
      "\n",
      "Training with params : \n",
      "{'colsample_bytree': 0.8500000000000001, 'silent': 0, 'min_child_weight': 5.0, 'n_estimators': 630.0, 'subsample': 0.6000000000000001, 'eta': 0.025, 'objective': 'binary:logistic', 'max_depth': 3.0, 'gamma': 0.7000000000000001, 'booster': 'gbtree'}\n",
      "\tScore 0.779384161039\n",
      "\n",
      "\n",
      "Training with params : \n",
      "{'colsample_bytree': 0.9, 'silent': 0, 'min_child_weight': 9.0, 'n_estimators': 370.0, 'subsample': 0.7000000000000001, 'eta': 0.15000000000000002, 'objective': 'binary:logistic', 'max_depth': 4.0, 'gamma': 0.75, 'booster': 'gbtree'}\n",
      "\tScore 0.764831185511\n",
      "\n",
      "\n",
      "Training with params : \n",
      "{'colsample_bytree': 0.55, 'silent': 0, 'min_child_weight': 4.0, 'n_estimators': 790.0, 'subsample': 0.75, 'eta': 0.07500000000000001, 'objective': 'binary:logistic', 'max_depth': 2.0, 'gamma': 0.8, 'booster': 'gbtree'}\n",
      "\tScore 0.771123046473\n",
      "\n",
      "\n",
      "Training with params : \n",
      "{'colsample_bytree': 0.9500000000000001, 'silent': 0, 'min_child_weight': 7.0, 'n_estimators': 529.0, 'subsample': 0.8500000000000001, 'eta': 0.17500000000000002, 'objective': 'binary:logistic', 'max_depth': 3.0, 'gamma': 0.9, 'booster': 'gbtree'}\n",
      "\tScore 0.759400122721\n",
      "\n",
      "\n",
      "Training with params : \n",
      "{'colsample_bytree': 0.75, 'silent': 0, 'min_child_weight': 8.0, 'n_estimators': 447.0, 'subsample': 0.65, 'eta': 0.05, 'objective': 'binary:logistic', 'max_depth': 4.0, 'gamma': 0.75, 'booster': 'gbtree'}\n",
      "\tScore 0.774682054184\n",
      "\n",
      "\n",
      "Training with params : \n",
      "{'colsample_bytree': 0.8500000000000001, 'silent': 0, 'min_child_weight': 7.0, 'n_estimators': 157.0, 'subsample': 0.55, 'eta': 0.125, 'objective': 'binary:logistic', 'max_depth': 5.0, 'gamma': 0.6000000000000001, 'booster': 'gbtree'}\n",
      "\tScore 0.772646930657\n",
      "\n",
      "\n",
      "Training with params : \n",
      "{'colsample_bytree': 1.0, 'silent': 0, 'min_child_weight': 6.0, 'n_estimators': 511.0, 'subsample': 0.8, 'eta': 0.05, 'objective': 'binary:logistic', 'max_depth': 3.0, 'gamma': 0.8500000000000001, 'booster': 'gbtree'}\n",
      "\tScore 0.779114071599\n",
      "\n",
      "\n",
      "Training with params : \n",
      "{'colsample_bytree': 0.8, 'silent': 0, 'min_child_weight': 4.0, 'n_estimators': 557.0, 'subsample': 0.7000000000000001, 'eta': 0.025, 'objective': 'binary:logistic', 'max_depth': 1.0, 'gamma': 0.9500000000000001, 'booster': 'gbtree'}\n",
      "\tScore 0.733481720789\n",
      "\n",
      "\n",
      "Training with params : \n",
      "{'colsample_bytree': 0.9, 'silent': 0, 'min_child_weight': 6.0, 'n_estimators': 700.0, 'subsample': 0.75, 'eta': 0.025, 'objective': 'binary:logistic', 'max_depth': 3.0, 'gamma': 0.8, 'booster': 'gbtree'}\n",
      "\tScore 0.780288203554\n",
      "\n",
      "\n",
      "Training with params : \n",
      "{'colsample_bytree': 0.9, 'silent': 0, 'min_child_weight': 5.0, 'n_estimators': 619.0, 'subsample': 0.75, 'eta': 0.07500000000000001, 'objective': 'binary:logistic', 'max_depth': 3.0, 'gamma': 0.8, 'booster': 'gbtree'}\n",
      "\tScore 0.773754375856\n",
      "\n",
      "\n",
      "Training with params : \n",
      "{'colsample_bytree': 0.9500000000000001, 'silent': 0, 'min_child_weight': 6.0, 'n_estimators': 868.0, 'subsample': 0.8, 'eta': 0.05, 'objective': 'binary:logistic', 'max_depth': 3.0, 'gamma': 0.8, 'booster': 'gbtree'}\n",
      "\tScore 0.776360956805\n",
      "\n",
      "\n",
      "Training with params : \n",
      "{'colsample_bytree': 0.9, 'silent': 0, 'min_child_weight': 5.0, 'n_estimators': 596.0, 'subsample': 0.7000000000000001, 'eta': 0.1, 'objective': 'binary:logistic', 'max_depth': 2.0, 'gamma': 0.8500000000000001, 'booster': 'gbtree'}\n",
      "\tScore 0.773729506832\n",
      "\n",
      "\n",
      "Training with params : \n",
      "{'colsample_bytree': 0.9500000000000001, 'silent': 0, 'min_child_weight': 6.0, 'n_estimators': 666.0, 'subsample': 0.75, 'eta': 0.025, 'objective': 'binary:logistic', 'max_depth': 4.0, 'gamma': 0.75, 'booster': 'gbtree'}\n",
      "\tScore 0.77896336713\n",
      "\n",
      "\n",
      "Training with params : \n",
      "{'colsample_bytree': 0.8500000000000001, 'silent': 0, 'min_child_weight': 5.0, 'n_estimators': 968.0, 'subsample': 0.8, 'eta': 0.07500000000000001, 'objective': 'binary:logistic', 'max_depth': 3.0, 'gamma': 0.8500000000000001, 'booster': 'gbtree'}\n",
      "\tScore 0.767752574638\n",
      "\n",
      "\n",
      "Training with params : \n",
      "{'colsample_bytree': 1.0, 'silent': 0, 'min_child_weight': 7.0, 'n_estimators': 910.0, 'subsample': 0.75, 'eta': 0.05, 'objective': 'binary:logistic', 'max_depth': 3.0, 'gamma': 0.75, 'booster': 'gbtree'}\n",
      "\tScore 0.775839656088\n",
      "\n",
      "\n",
      "Training with params : \n",
      "{'colsample_bytree': 0.9, 'silent': 0, 'min_child_weight': 7.0, 'n_estimators': 492.0, 'subsample': 0.7000000000000001, 'eta': 0.1, 'objective': 'binary:logistic', 'max_depth': 2.0, 'gamma': 0.8, 'booster': 'gbtree'}\n",
      "\tScore 0.772058906779\n",
      "\n",
      "\n",
      "Training with params : \n",
      "{'colsample_bytree': 1.0, 'silent': 0, 'min_child_weight': 5.0, 'n_estimators': 772.0, 'subsample': 0.8, 'eta': 0.025, 'objective': 'binary:logistic', 'max_depth': 4.0, 'gamma': 0.75, 'booster': 'gbtree'}\n",
      "\tScore 0.778718708715\n",
      "\n",
      "\n",
      "Training with params : \n",
      "{'colsample_bytree': 0.8500000000000001, 'silent': 0, 'min_child_weight': 8.0, 'n_estimators': 389.0, 'subsample': 0.7000000000000001, 'eta': 0.07500000000000001, 'objective': 'binary:logistic', 'max_depth': 3.0, 'gamma': 0.8500000000000001, 'booster': 'gbtree'}\n",
      "\tScore 0.775926608937\n",
      "\n",
      "\n",
      "Training with params : \n",
      "{'colsample_bytree': 0.9500000000000001, 'silent': 0, 'min_child_weight': 6.0, 'n_estimators': 332.0, 'subsample': 0.8500000000000001, 'eta': 0.05, 'objective': 'binary:logistic', 'max_depth': 4.0, 'gamma': 0.7000000000000001, 'booster': 'gbtree'}\n",
      "\tScore 0.78017243176\n",
      "\n",
      "\n",
      "Training with params : \n",
      "{'colsample_bytree': 0.9, 'silent': 0, 'min_child_weight': 7.0, 'n_estimators': 463.0, 'subsample': 0.75, 'eta': 0.125, 'objective': 'binary:logistic', 'max_depth': 3.0, 'gamma': 0.9, 'booster': 'gbtree'}\n",
      "\tScore 0.769314913661\n",
      "\n",
      "\n",
      "Training with params : \n",
      "{'colsample_bytree': 0.9500000000000001, 'silent': 0, 'min_child_weight': 6.0, 'n_estimators': 885.0, 'subsample': 0.65, 'eta': 0.07500000000000001, 'objective': 'binary:logistic', 'max_depth': 2.0, 'gamma': 0.8, 'booster': 'gbtree'}\n",
      "\tScore 0.775020464045\n",
      "\n",
      "\n",
      "Training with params : \n",
      "{'colsample_bytree': 0.8500000000000001, 'silent': 0, 'min_child_weight': 4.0, 'n_estimators': 650.0, 'subsample': 0.8, 'eta': 0.1, 'objective': 'binary:logistic', 'max_depth': 4.0, 'gamma': 0.75, 'booster': 'gbtree'}\n",
      "\tScore 0.762110025025\n",
      "\n",
      "\n",
      "Training with params : \n",
      "{'colsample_bytree': 0.9, 'silent': 0, 'min_child_weight': 6.0, 'n_estimators': 736.0, 'subsample': 0.9, 'eta': 0.025, 'objective': 'binary:logistic', 'max_depth': 3.0, 'gamma': 0.7000000000000001, 'booster': 'gbtree'}\n",
      "\tScore 0.780981669367\n",
      "\n",
      "\n",
      "Training with params : \n",
      "{'colsample_bytree': 0.8, 'silent': 0, 'min_child_weight': 5.0, 'n_estimators': 682.0, 'subsample': 1.0, 'eta': 0.025, 'objective': 'binary:logistic', 'max_depth': 3.0, 'gamma': 0.65, 'booster': 'gbtree'}\n",
      "\tScore 0.7786299288\n",
      "\n",
      "\n",
      "Training with params : \n",
      "{'colsample_bytree': 0.9, 'silent': 0, 'min_child_weight': 7.0, 'n_estimators': 755.0, 'subsample': 0.9500000000000001, 'eta': 0.05, 'objective': 'binary:logistic', 'max_depth': 4.0, 'gamma': 0.7000000000000001, 'booster': 'gbtree'}\n",
      "\tScore 0.773129530804\n",
      "\n",
      "\n",
      "Training with params : \n",
      "{'colsample_bytree': 1.0, 'silent': 0, 'min_child_weight': 6.0, 'n_estimators': 518.0, 'subsample': 0.9500000000000001, 'eta': 0.35000000000000003, 'objective': 'binary:logistic', 'max_depth': 3.0, 'gamma': 0.65, 'booster': 'gbtree'}\n",
      "\tScore 0.745440392884\n",
      "\n",
      "\n",
      "Training with params : \n",
      "{'colsample_bytree': 0.8500000000000001, 'silent': 0, 'min_child_weight': 8.0, 'n_estimators': 804.0, 'subsample': 0.9, 'eta': 0.15000000000000002, 'objective': 'binary:logistic', 'max_depth': 2.0, 'gamma': 0.7000000000000001, 'booster': 'gbtree'}\n",
      "\tScore 0.767723409848\n",
      "\n",
      "\n",
      "Training with params : \n",
      "{'colsample_bytree': 0.9500000000000001, 'silent': 0, 'min_child_weight': 8.0, 'n_estimators': 570.0, 'subsample': 1.0, 'eta': 0.1, 'objective': 'binary:logistic', 'max_depth': 4.0, 'gamma': 0.6000000000000001, 'booster': 'gbtree'}\n",
      "\tScore 0.769197412639\n",
      "\n",
      "\n",
      "Training with params : \n",
      "{'colsample_bytree': 0.5, 'silent': 0, 'min_child_weight': 5.0, 'n_estimators': 736.0, 'subsample': 0.9, 'eta': 0.025, 'objective': 'binary:logistic', 'max_depth': 2.0, 'gamma': 0.7000000000000001, 'booster': 'gbtree'}\n",
      "\tScore 0.774300158798\n",
      "\n",
      "\n",
      "Training with params : \n",
      "{'colsample_bytree': 0.6000000000000001, 'silent': 0, 'min_child_weight': 9.0, 'n_estimators': 433.0, 'subsample': 0.5, 'eta': 0.07500000000000001, 'objective': 'binary:logistic', 'max_depth': 4.0, 'gamma': 0.65, 'booster': 'gbtree'}\n",
      "\tScore 0.760740458486\n",
      "\n",
      "\n",
      "Training with params : \n",
      "{'colsample_bytree': 1.0, 'silent': 0, 'min_child_weight': 10.0, 'n_estimators': 833.0, 'subsample': 0.9500000000000001, 'eta': 0.05, 'objective': 'binary:logistic', 'max_depth': 3.0, 'gamma': 0.6000000000000001, 'booster': 'gbtree'}\n",
      "\tScore 0.776578586937\n",
      "\n",
      "\n",
      "Training with params : \n",
      "{'colsample_bytree': 0.8, 'silent': 0, 'min_child_weight': 7.0, 'n_estimators': 544.0, 'subsample': 1.0, 'eta': 0.125, 'objective': 'binary:logistic', 'max_depth': 3.0, 'gamma': 0.65, 'booster': 'gbtree'}\n",
      "\tScore 0.771292494861\n",
      "\n",
      "\n",
      "Training with params : \n",
      "{'colsample_bytree': 0.9500000000000001, 'silent': 0, 'min_child_weight': 2.0, 'n_estimators': 232.0, 'subsample': 0.9, 'eta': 0.05, 'objective': 'binary:logistic', 'max_depth': 2.0, 'gamma': 0.75, 'booster': 'gbtree'}\n",
      "\tScore 0.777645017585\n",
      "\n",
      "\n",
      "Training with params : \n",
      "{'colsample_bytree': 0.9, 'silent': 0, 'min_child_weight': 1.0, 'n_estimators': 594.0, 'subsample': 0.9500000000000001, 'eta': 0.17500000000000002, 'objective': 'binary:logistic', 'max_depth': 4.0, 'gamma': 0.7000000000000001, 'booster': 'gbtree'}\n",
      "\tScore 0.749854706193\n",
      "\n",
      "\n",
      "Training with params : \n",
      "{'colsample_bytree': 0.8500000000000001, 'silent': 0, 'min_child_weight': 6.0, 'n_estimators': 721.0, 'subsample': 0.8500000000000001, 'eta': 0.025, 'objective': 'binary:logistic', 'max_depth': 5.0, 'gamma': 0.7000000000000001, 'booster': 'gbtree'}\n",
      "\tScore 0.774888435235\n",
      "\n",
      "\n",
      "Training with params : \n",
      "{'colsample_bytree': 0.75, 'silent': 0, 'min_child_weight': 7.0, 'n_estimators': 416.0, 'subsample': 0.8500000000000001, 'eta': 0.1, 'objective': 'binary:logistic', 'max_depth': 3.0, 'gamma': 0.75, 'booster': 'gbtree'}\n",
      "\tScore 0.771976747985\n",
      "\n",
      "\n",
      "Training with params : \n",
      "{'colsample_bytree': 0.9, 'silent': 0, 'min_child_weight': 4.0, 'n_estimators': 920.0, 'subsample': 0.9, 'eta': 0.4, 'objective': 'binary:logistic', 'max_depth': 2.0, 'gamma': 0.8, 'booster': 'gbtree'}\n",
      "\tScore 0.748072855366\n",
      "\n",
      "\n",
      "Training with params : \n",
      "{'colsample_bytree': 1.0, 'silent': 0, 'min_child_weight': 6.0, 'n_estimators': 345.0, 'subsample': 0.6000000000000001, 'eta': 0.2, 'objective': 'binary:logistic', 'max_depth': 4.0, 'gamma': 0.75, 'booster': 'gbtree'}\n",
      "\tScore 0.757436955544\n",
      "\n",
      "\n",
      "Training with params : \n",
      "{'colsample_bytree': 0.9500000000000001, 'silent': 0, 'min_child_weight': 5.0, 'n_estimators': 288.0, 'subsample': 1.0, 'eta': 0.15000000000000002, 'objective': 'binary:logistic', 'max_depth': 3.0, 'gamma': 0.65, 'booster': 'gbtree'}\n",
      "\tScore 0.77530544987\n",
      "\n",
      "\n",
      "Training with params : \n",
      "{'colsample_bytree': 0.8500000000000001, 'silent': 0, 'min_child_weight': 3.0, 'n_estimators': 313.0, 'subsample': 0.5, 'eta': 0.07500000000000001, 'objective': 'binary:logistic', 'max_depth': 1.0, 'gamma': 0.7000000000000001, 'booster': 'gbtree'}\n",
      "\tScore 0.741311625125\n",
      "\n",
      "\n",
      "Training with params : \n",
      "{'colsample_bytree': 0.8, 'silent': 0, 'min_child_weight': 7.0, 'n_estimators': 619.0, 'subsample': 0.6000000000000001, 'eta': 0.45, 'objective': 'binary:logistic', 'max_depth': 3.0, 'gamma': 0.55, 'booster': 'gbtree'}\n",
      "\tScore 0.712421440731\n",
      "\n",
      "\n",
      "Training with params : \n",
      "{'colsample_bytree': 0.8500000000000001, 'silent': 0, 'min_child_weight': 6.0, 'n_estimators': 649.0, 'subsample': 0.65, 'eta': 0.025, 'objective': 'binary:logistic', 'max_depth': 5.0, 'gamma': 0.8, 'booster': 'gbtree'}\n",
      "\tScore 0.775495912925\n",
      "\n",
      "\n",
      "Training with params : \n",
      "{'colsample_bytree': 0.9, 'silent': 0, 'min_child_weight': 8.0, 'n_estimators': 466.0, 'subsample': 0.8500000000000001, 'eta': 0.125, 'objective': 'binary:logistic', 'max_depth': 3.0, 'gamma': 0.8500000000000001, 'booster': 'gbtree'}\n",
      "\tScore 0.770888893116\n",
      "\n",
      "\n",
      "Training with params : \n",
      "{'colsample_bytree': 0.9500000000000001, 'silent': 0, 'min_child_weight': 5.0, 'n_estimators': 688.0, 'subsample': 0.9, 'eta': 0.05, 'objective': 'binary:logistic', 'max_depth': 4.0, 'gamma': 0.9, 'booster': 'gbtree'}\n",
      "\tScore 0.7740167179\n",
      "\n",
      "\n",
      "Training with params : \n",
      "{'colsample_bytree': 0.8, 'silent': 0, 'min_child_weight': 9.0, 'n_estimators': 114.0, 'subsample': 0.55, 'eta': 0.375, 'objective': 'binary:logistic', 'max_depth': 2.0, 'gamma': 0.75, 'booster': 'gbtree'}\n",
      "\tScore 0.757099216896\n",
      "\n",
      "\n",
      "Training with params : \n",
      "{'colsample_bytree': 1.0, 'silent': 0, 'min_child_weight': 4.0, 'n_estimators': 663.0, 'subsample': 0.9500000000000001, 'eta': 0.025, 'objective': 'binary:logistic', 'max_depth': 4.0, 'gamma': 0.7000000000000001, 'booster': 'gbtree'}\n",
      "\tScore 0.779716495849\n",
      "\n",
      "\n",
      "Training with params : \n",
      "{'colsample_bytree': 0.9, 'silent': 0, 'min_child_weight': 7.0, 'n_estimators': 813.0, 'subsample': 0.65, 'eta': 0.275, 'objective': 'binary:logistic', 'max_depth': 2.0, 'gamma': 0.8500000000000001, 'booster': 'gbtree'}\n",
      "\tScore 0.754561600278\n",
      "\n",
      "\n",
      "Training with params : \n",
      "{'colsample_bytree': 0.9500000000000001, 'silent': 0, 'min_child_weight': 6.0, 'n_estimators': 538.0, 'subsample': 0.8, 'eta': 0.30000000000000004, 'objective': 'binary:logistic', 'max_depth': 3.0, 'gamma': 0.8, 'booster': 'gbtree'}\n",
      "\tScore 0.737049167586\n",
      "\n",
      "\n",
      "Training with params : \n",
      "{'colsample_bytree': 0.9, 'silent': 0, 'min_child_weight': 8.0, 'n_estimators': 486.0, 'subsample': 1.0, 'eta': 0.07500000000000001, 'objective': 'binary:logistic', 'max_depth': 3.0, 'gamma': 0.65, 'booster': 'gbtree'}\n",
      "\tScore 0.774779644059\n",
      "\n",
      "\n",
      "Training with params : \n",
      "{'colsample_bytree': 0.75, 'silent': 0, 'min_child_weight': 7.0, 'n_estimators': 368.0, 'subsample': 0.8500000000000001, 'eta': 0.1, 'objective': 'binary:logistic', 'max_depth': 5.0, 'gamma': 0.8, 'booster': 'gbtree'}\n",
      "\tScore 0.765563547571\n",
      "\n",
      "\n",
      "Training with params : \n",
      "{'colsample_bytree': 0.8500000000000001, 'silent': 0, 'min_child_weight': 10.0, 'n_estimators': 785.0, 'subsample': 0.75, 'eta': 0.05, 'objective': 'binary:logistic', 'max_depth': 4.0, 'gamma': 0.75, 'booster': 'gbtree'}\n",
      "\tScore 0.770734875811\n",
      "\n",
      "\n",
      "Training with params : \n",
      "{'colsample_bytree': 0.7000000000000001, 'silent': 0, 'min_child_weight': 9.0, 'n_estimators': 867.0, 'subsample': 0.6000000000000001, 'eta': 0.07500000000000001, 'objective': 'binary:logistic', 'max_depth': 1.0, 'gamma': 0.7000000000000001, 'booster': 'gbtree'}\n",
      "\tScore 0.743344461975\n",
      "\n",
      "\n",
      "Training with params : \n",
      "{'colsample_bytree': 0.9500000000000001, 'silent': 0, 'min_child_weight': 4.0, 'n_estimators': 576.0, 'subsample': 0.7000000000000001, 'eta': 0.025, 'objective': 'binary:logistic', 'max_depth': 6.0, 'gamma': 0.6000000000000001, 'booster': 'gbtree'}\n",
      "\tScore 0.773892497919\n",
      "\n",
      "\n",
      "Training with params : \n",
      "{'colsample_bytree': 0.9, 'silent': 0, 'min_child_weight': 5.0, 'n_estimators': 511.0, 'subsample': 0.8, 'eta': 0.17500000000000002, 'objective': 'binary:logistic', 'max_depth': 3.0, 'gamma': 0.75, 'booster': 'gbtree'}\n",
      "\tScore 0.763123953135\n",
      "\n",
      "\n",
      "Training with params : \n",
      "{'colsample_bytree': 0.8500000000000001, 'silent': 0, 'min_child_weight': 6.0, 'n_estimators': 611.0, 'subsample': 0.9, 'eta': 0.125, 'objective': 'binary:logistic', 'max_depth': 4.0, 'gamma': 0.8, 'booster': 'gbtree'}\n",
      "\tScore 0.762279550772\n",
      "\n",
      "\n",
      "Training with params : \n",
      "{'colsample_bytree': 1.0, 'silent': 0, 'min_child_weight': 7.0, 'n_estimators': 711.0, 'subsample': 0.65, 'eta': 0.325, 'objective': 'binary:logistic', 'max_depth': 2.0, 'gamma': 0.9, 'booster': 'gbtree'}\n",
      "\tScore 0.753561292112\n",
      "\n",
      "\n",
      "Training with params : \n",
      "{'colsample_bytree': 0.8, 'silent': 0, 'min_child_weight': 3.0, 'n_estimators': 257.0, 'subsample': 0.5, 'eta': 0.25, 'objective': 'binary:logistic', 'max_depth': 5.0, 'gamma': 0.8500000000000001, 'booster': 'gbtree'}\n",
      "\tScore 0.729410775218\n",
      "\n",
      "\n",
      "Training with params : \n",
      "{'colsample_bytree': 0.9500000000000001, 'silent': 0, 'min_child_weight': 8.0, 'n_estimators': 750.0, 'subsample': 0.7000000000000001, 'eta': 0.47500000000000003, 'objective': 'binary:logistic', 'max_depth': 4.0, 'gamma': 0.7000000000000001, 'booster': 'gbtree'}\n",
      "\tScore 0.697205440624\n",
      "\n",
      "\n",
      "Training with params : \n",
      "{'colsample_bytree': 0.8500000000000001, 'silent': 0, 'min_child_weight': 5.0, 'n_estimators': 193.0, 'subsample': 0.55, 'eta': 0.1, 'objective': 'binary:logistic', 'max_depth': 1.0, 'gamma': 0.75, 'booster': 'gbtree'}\n",
      "\tScore 0.739643830516\n",
      "\n",
      "\n",
      "Training with params : \n",
      "{'colsample_bytree': 0.9, 'silent': 0, 'min_child_weight': 6.0, 'n_estimators': 398.0, 'subsample': 0.8500000000000001, 'eta': 0.05, 'objective': 'binary:logistic', 'max_depth': 3.0, 'gamma': 0.65, 'booster': 'gbtree'}\n",
      "\tScore 0.779408675117\n",
      "\n",
      "\n",
      "Training with params : \n",
      "{'colsample_bytree': 0.8, 'silent': 0, 'min_child_weight': 7.0, 'n_estimators': 637.0, 'subsample': 0.75, 'eta': 0.2, 'objective': 'binary:logistic', 'max_depth': 4.0, 'gamma': 0.8, 'booster': 'gbtree'}\n",
      "\tScore 0.733526719389\n",
      "\n",
      "\n",
      "Training with params : \n",
      "{'colsample_bytree': 1.0, 'silent': 0, 'min_child_weight': 4.0, 'n_estimators': 143.0, 'subsample': 0.9500000000000001, 'eta': 0.225, 'objective': 'binary:logistic', 'max_depth': 3.0, 'gamma': 0.8500000000000001, 'booster': 'gbtree'}\n",
      "\tScore 0.776305382613\n",
      "\n",
      "\n",
      "Training with params : \n",
      "{'colsample_bytree': 0.9500000000000001, 'silent': 0, 'min_child_weight': 8.0, 'n_estimators': 933.0, 'subsample': 0.8, 'eta': 0.15000000000000002, 'objective': 'binary:logistic', 'max_depth': 2.0, 'gamma': 0.7000000000000001, 'booster': 'gbtree'}\n",
      "\tScore 0.767972839567\n",
      "\n",
      "\n",
      "Training with params : \n",
      "{'colsample_bytree': 0.9, 'silent': 0, 'min_child_weight': 6.0, 'n_estimators': 445.0, 'subsample': 0.7000000000000001, 'eta': 0.07500000000000001, 'objective': 'binary:logistic', 'max_depth': 3.0, 'gamma': 0.65, 'booster': 'gbtree'}\n",
      "\tScore 0.775730514516\n",
      "\n",
      "\n",
      "Training with params : \n",
      "{'colsample_bytree': 0.8, 'silent': 0, 'min_child_weight': 9.0, 'n_estimators': 216.0, 'subsample': 0.65, 'eta': 0.025, 'objective': 'binary:logistic', 'max_depth': 4.0, 'gamma': 0.55, 'booster': 'gbtree'}\n",
      "\tScore 0.777910863591\n",
      "\n",
      "\n",
      "Training with params : \n",
      "{'colsample_bytree': 0.75, 'silent': 0, 'min_child_weight': 5.0, 'n_estimators': 271.0, 'subsample': 0.8500000000000001, 'eta': 0.05, 'objective': 'binary:logistic', 'max_depth': 3.0, 'gamma': 0.75, 'booster': 'gbtree'}\n",
      "\tScore 0.77782029074\n",
      "\n",
      "\n",
      "Training with params : \n",
      "{'colsample_bytree': 1.0, 'silent': 0, 'min_child_weight': 6.0, 'n_estimators': 733.0, 'subsample': 0.9, 'eta': 0.125, 'objective': 'binary:logistic', 'max_depth': 2.0, 'gamma': 0.8, 'booster': 'gbtree'}\n",
      "\tScore 0.773750983384\n",
      "\n",
      "\n",
      "Training with params : \n",
      "{'colsample_bytree': 0.8500000000000001, 'silent': 0, 'min_child_weight': 8.0, 'n_estimators': 416.0, 'subsample': 0.8, 'eta': 0.1, 'objective': 'binary:logistic', 'max_depth': 5.0, 'gamma': 0.75, 'booster': 'gbtree'}\n",
      "\tScore 0.766984522229\n",
      "\n",
      "\n",
      "Training with params : \n",
      "{'colsample_bytree': 0.9500000000000001, 'silent': 0, 'min_child_weight': 10.0, 'n_estimators': 101.0, 'subsample': 0.75, 'eta': 0.025, 'objective': 'binary:logistic', 'max_depth': 3.0, 'gamma': 0.6000000000000001, 'booster': 'gbtree'}\n",
      "\tScore 0.774051791644\n",
      "\n",
      "\n",
      "Training with params : \n",
      "{'colsample_bytree': 0.9, 'silent': 0, 'min_child_weight': 2.0, 'n_estimators': 554.0, 'subsample': 0.6000000000000001, 'eta': 0.07500000000000001, 'objective': 'binary:logistic', 'max_depth': 4.0, 'gamma': 0.5, 'booster': 'gbtree'}\n",
      "\tScore 0.77154146952\n",
      "\n",
      "\n",
      "Training with params : \n",
      "{'colsample_bytree': 0.8500000000000001, 'silent': 0, 'min_child_weight': 7.0, 'n_estimators': 307.0, 'subsample': 0.7000000000000001, 'eta': 0.05, 'objective': 'binary:logistic', 'max_depth': 2.0, 'gamma': 0.8, 'booster': 'gbtree'}\n",
      "\tScore 0.778448580595\n",
      "\n",
      "\n",
      "Training with params : \n",
      "{'colsample_bytree': 1.0, 'silent': 0, 'min_child_weight': 5.0, 'n_estimators': 175.0, 'subsample': 0.5, 'eta': 0.1, 'objective': 'binary:logistic', 'max_depth': 3.0, 'gamma': 0.9500000000000001, 'booster': 'gbtree'}\n",
      "\tScore 0.776174468699\n",
      "\n",
      "\n",
      "Training with params : \n",
      "{'colsample_bytree': 0.65, 'silent': 0, 'min_child_weight': 6.0, 'n_estimators': 960.0, 'subsample': 0.75, 'eta': 0.025, 'objective': 'binary:logistic', 'max_depth': 4.0, 'gamma': 0.8500000000000001, 'booster': 'gbtree'}\n",
      "\tScore 0.772695410466\n",
      "\n",
      "\n",
      "Training with params : \n",
      "{'colsample_bytree': 0.9500000000000001, 'silent': 0, 'min_child_weight': 7.0, 'n_estimators': 673.0, 'subsample': 0.9, 'eta': 0.07500000000000001, 'objective': 'binary:logistic', 'max_depth': 3.0, 'gamma': 0.7000000000000001, 'booster': 'gbtree'}\n",
      "\tScore 0.774477529778\n",
      "\n",
      "\n",
      "Training with params : \n",
      "{'colsample_bytree': 0.7000000000000001, 'silent': 0, 'min_child_weight': 4.0, 'n_estimators': 331.0, 'subsample': 0.6000000000000001, 'eta': 0.15000000000000002, 'objective': 'binary:logistic', 'max_depth': 1.0, 'gamma': 1.0, 'booster': 'gbtree'}\n",
      "\tScore 0.744607731068\n",
      "\n",
      "\n",
      "Training with params : \n",
      "{'colsample_bytree': 0.9, 'silent': 0, 'min_child_weight': 5.0, 'n_estimators': 483.0, 'subsample': 0.55, 'eta': 0.05, 'objective': 'binary:logistic', 'max_depth': 4.0, 'gamma': 0.9, 'booster': 'gbtree'}\n",
      "\tScore 0.777704229982\n",
      "\n",
      "\n",
      "Training with params : \n",
      "{'colsample_bytree': 1.0, 'silent': 0, 'min_child_weight': 8.0, 'n_estimators': 526.0, 'subsample': 1.0, 'eta': 0.17500000000000002, 'objective': 'binary:logistic', 'max_depth': 2.0, 'gamma': 0.75, 'booster': 'gbtree'}\n",
      "\tScore 0.775539437131\n",
      "\n",
      "\n",
      "Training with params : \n",
      "{'colsample_bytree': 0.8, 'silent': 0, 'min_child_weight': 6.0, 'n_estimators': 847.0, 'subsample': 0.8, 'eta': 0.025, 'objective': 'binary:logistic', 'max_depth': 5.0, 'gamma': 0.8500000000000001, 'booster': 'gbtree'}\n",
      "\tScore 0.773247459582\n",
      "\n",
      "\n",
      "Training with params : \n",
      "{'colsample_bytree': 0.9, 'silent': 0, 'min_child_weight': 9.0, 'n_estimators': 767.0, 'subsample': 0.9500000000000001, 'eta': 0.125, 'objective': 'binary:logistic', 'max_depth': 3.0, 'gamma': 0.8, 'booster': 'gbtree'}\n",
      "\tScore 0.766035692716\n",
      "\n",
      "\n",
      "Training with params : \n",
      "{'colsample_bytree': 0.8500000000000001, 'silent': 0, 'min_child_weight': 3.0, 'n_estimators': 591.0, 'subsample': 0.65, 'eta': 0.2, 'objective': 'binary:logistic', 'max_depth': 3.0, 'gamma': 0.75, 'booster': 'gbtree'}\n",
      "\tScore 0.751239253305\n",
      "\n",
      "\n",
      "Training with params : \n",
      "{'colsample_bytree': 0.9500000000000001, 'silent': 0, 'min_child_weight': 7.0, 'n_estimators': 983.0, 'subsample': 0.7000000000000001, 'eta': 0.35000000000000003, 'objective': 'binary:logistic', 'max_depth': 2.0, 'gamma': 0.65, 'booster': 'gbtree'}\n",
      "\tScore 0.743225026949\n",
      "\n",
      "\n",
      "Training with params : \n",
      "{'colsample_bytree': 0.55, 'silent': 0, 'min_child_weight': 5.0, 'n_estimators': 888.0, 'subsample': 0.8500000000000001, 'eta': 0.05, 'objective': 'binary:logistic', 'max_depth': 4.0, 'gamma': 0.8, 'booster': 'gbtree'}\n",
      "\tScore 0.765883254468\n",
      "\n",
      "\n",
      "Training with params : \n",
      "{'colsample_bytree': 0.75, 'silent': 0, 'min_child_weight': 6.0, 'n_estimators': 383.0, 'subsample': 0.75, 'eta': 0.225, 'objective': 'binary:logistic', 'max_depth': 2.0, 'gamma': 0.7000000000000001, 'booster': 'gbtree'}\n",
      "\tScore 0.764169466954\n",
      "\n",
      "\n",
      "Training with params : \n",
      "{'colsample_bytree': 0.8500000000000001, 'silent': 0, 'min_child_weight': 10.0, 'n_estimators': 455.0, 'subsample': 0.8500000000000001, 'eta': 0.07500000000000001, 'objective': 'binary:logistic', 'max_depth': 3.0, 'gamma': 0.8500000000000001, 'booster': 'gbtree'}\n",
      "\tScore 0.772933527395\n",
      "\n",
      "\n",
      "Training with params : \n",
      "{'colsample_bytree': 0.9, 'silent': 0, 'min_child_weight': 8.0, 'n_estimators': 348.0, 'subsample': 0.75, 'eta': 0.1, 'objective': 'binary:logistic', 'max_depth': 5.0, 'gamma': 0.75, 'booster': 'gbtree'}\n",
      "\tScore 0.768065660414\n",
      "\n",
      "\n",
      "Training with params : \n",
      "{'colsample_bytree': 0.9500000000000001, 'silent': 0, 'min_child_weight': 6.0, 'n_estimators': 501.0, 'subsample': 0.8, 'eta': 0.30000000000000004, 'objective': 'binary:logistic', 'max_depth': 4.0, 'gamma': 0.9, 'booster': 'gbtree'}\n",
      "\tScore 0.735636465917\n",
      "\n",
      "\n",
      "Training with params : \n",
      "{'colsample_bytree': 0.8, 'silent': 0, 'min_child_weight': 7.0, 'n_estimators': 430.0, 'subsample': 0.65, 'eta': 0.025, 'objective': 'binary:logistic', 'max_depth': 3.0, 'gamma': 0.7000000000000001, 'booster': 'gbtree'}\n",
      "\tScore 0.776721842075\n",
      "\n",
      "\n",
      "Training with params : \n",
      "{'colsample_bytree': 1.0, 'silent': 0, 'min_child_weight': 4.0, 'n_estimators': 562.0, 'subsample': 0.7000000000000001, 'eta': 0.15000000000000002, 'objective': 'binary:logistic', 'max_depth': 4.0, 'gamma': 0.6000000000000001, 'booster': 'gbtree'}\n",
      "\tScore 0.758099445428\n",
      "\n",
      "\n",
      "Training with params : \n",
      "{'colsample_bytree': 0.9, 'silent': 0, 'min_child_weight': 5.0, 'n_estimators': 802.0, 'subsample': 0.55, 'eta': 0.5, 'objective': 'binary:logistic', 'max_depth': 6.0, 'gamma': 0.65, 'booster': 'gbtree'}\n",
      "\tScore 0.666953264163\n",
      "\n",
      "\n",
      "Training with params : \n",
      "{'colsample_bytree': 0.6000000000000001, 'silent': 0, 'min_child_weight': 9.0, 'n_estimators': 827.0, 'subsample': 0.9500000000000001, 'eta': 0.07500000000000001, 'objective': 'binary:logistic', 'max_depth': 2.0, 'gamma': 0.7000000000000001, 'booster': 'gbtree'}\n",
      "\tScore 0.768883828572\n",
      "\n",
      "\n",
      "Training with params : \n",
      "{'colsample_bytree': 0.8500000000000001, 'silent': 0, 'min_child_weight': 7.0, 'n_estimators': 704.0, 'subsample': 0.8, 'eta': 0.05, 'objective': 'binary:logistic', 'max_depth': 7.0, 'gamma': 0.8, 'booster': 'gbtree'}\n",
      "\tScore 0.758214122803\n",
      "\n",
      "\n",
      "Training with params : \n",
      "{'colsample_bytree': 0.9500000000000001, 'silent': 0, 'min_child_weight': 8.0, 'n_estimators': 242.0, 'subsample': 1.0, 'eta': 0.125, 'objective': 'binary:logistic', 'max_depth': 3.0, 'gamma': 0.75, 'booster': 'gbtree'}\n",
      "\tScore 0.777874247194\n",
      "\n",
      "\n",
      "Training with params : \n",
      "{'colsample_bytree': 1.0, 'silent': 0, 'min_child_weight': 4.0, 'n_estimators': 468.0, 'subsample': 0.65, 'eta': 0.42500000000000004, 'objective': 'binary:logistic', 'max_depth': 4.0, 'gamma': 0.8500000000000001, 'booster': 'gbtree'}\n",
      "\tScore 0.711959650474\n",
      "\n",
      "\n",
      "Training with params : \n",
      "{'colsample_bytree': 0.8500000000000001, 'silent': 0, 'min_child_weight': 6.0, 'n_estimators': 297.0, 'subsample': 0.9, 'eta': 0.05, 'objective': 'binary:logistic', 'max_depth': 1.0, 'gamma': 0.75, 'booster': 'gbtree'}\n",
      "\tScore 0.733395507412\n",
      "\n",
      "\n",
      "Training with params : \n",
      "{'colsample_bytree': 0.9500000000000001, 'silent': 0, 'min_child_weight': 7.0, 'n_estimators': 632.0, 'subsample': 0.6000000000000001, 'eta': 0.025, 'objective': 'binary:logistic', 'max_depth': 3.0, 'gamma': 0.8, 'booster': 'gbtree'}\n",
      "\tScore 0.780756760552\n",
      "\n",
      "\n",
      "Training with params : \n",
      "{'colsample_bytree': 0.9, 'silent': 0, 'min_child_weight': 7.0, 'n_estimators': 776.0, 'subsample': 0.55, 'eta': 0.1, 'objective': 'binary:logistic', 'max_depth': 3.0, 'gamma': 0.9, 'booster': 'gbtree'}\n",
      "\tScore 0.764110022476\n",
      "\n",
      "\n",
      "Training with params : \n",
      "{'colsample_bytree': 0.5, 'silent': 0, 'min_child_weight': 6.0, 'n_estimators': 632.0, 'subsample': 0.6000000000000001, 'eta': 0.17500000000000002, 'objective': 'binary:logistic', 'max_depth': 3.0, 'gamma': 0.8, 'booster': 'gbtree'}\n",
      "\tScore 0.752753119345\n",
      "\n",
      "\n",
      "Training with params : \n",
      "{'colsample_bytree': 0.8, 'silent': 0, 'min_child_weight': 5.0, 'n_estimators': 690.0, 'subsample': 0.6000000000000001, 'eta': 0.275, 'objective': 'binary:logistic', 'max_depth': 4.0, 'gamma': 0.75, 'booster': 'gbtree'}\n",
      "\tScore 0.720978246407\n",
      "\n",
      "\n",
      "Training with params : \n",
      "{'colsample_bytree': 0.9, 'silent': 0, 'min_child_weight': 6.0, 'n_estimators': 665.0, 'subsample': 0.5, 'eta': 0.25, 'objective': 'binary:logistic', 'max_depth': 5.0, 'gamma': 0.9500000000000001, 'booster': 'gbtree'}\n",
      "\tScore 0.72528801425\n",
      "\n",
      "\n",
      "Training with params : \n",
      "{'colsample_bytree': 1.0, 'silent': 0, 'min_child_weight': 5.0, 'n_estimators': 726.0, 'subsample': 0.55, 'eta': 0.125, 'objective': 'binary:logistic', 'max_depth': 2.0, 'gamma': 0.7000000000000001, 'booster': 'gbtree'}\n",
      "\tScore 0.772718952991\n",
      "\n",
      "\n",
      "Training with params : \n",
      "{'colsample_bytree': 0.9500000000000001, 'silent': 0, 'min_child_weight': 7.0, 'n_estimators': 759.0, 'subsample': 0.55, 'eta': 0.07500000000000001, 'objective': 'binary:logistic', 'max_depth': 4.0, 'gamma': 0.65, 'booster': 'gbtree'}\n",
      "\tScore 0.766651752836\n",
      "\n",
      "\n",
      "Training with params : \n",
      "{'colsample_bytree': 0.75, 'silent': 0, 'min_child_weight': 6.0, 'n_estimators': 610.0, 'subsample': 0.6000000000000001, 'eta': 0.025, 'objective': 'binary:logistic', 'max_depth': 3.0, 'gamma': 0.8, 'booster': 'gbtree'}\n",
      "\tScore 0.779927746041\n",
      "\n",
      "\n",
      "Training with params : \n",
      "{'colsample_bytree': 0.8500000000000001, 'silent': 0, 'min_child_weight': 7.0, 'n_estimators': 640.0, 'subsample': 0.5, 'eta': 0.375, 'objective': 'binary:logistic', 'max_depth': 2.0, 'gamma': 0.8500000000000001, 'booster': 'gbtree'}\n",
      "\tScore 0.752113805662\n",
      "\n",
      "\n",
      "Training with params : \n",
      "{'colsample_bytree': 0.9500000000000001, 'silent': 0, 'min_child_weight': 6.0, 'n_estimators': 576.0, 'subsample': 0.5, 'eta': 0.45, 'objective': 'binary:logistic', 'max_depth': 6.0, 'gamma': 0.6000000000000001, 'booster': 'gbtree'}\n",
      "\tScore 0.666331103964\n",
      "\n",
      "\n",
      "Training with params : \n",
      "{'colsample_bytree': 0.9, 'silent': 0, 'min_child_weight': 5.0, 'n_estimators': 740.0, 'subsample': 0.55, 'eta': 0.025, 'objective': 'binary:logistic', 'max_depth': 4.0, 'gamma': 0.7000000000000001, 'booster': 'gbtree'}\n",
      "\tScore 0.780043144686\n",
      "\n",
      "\n",
      "Training with params : \n",
      "{'colsample_bytree': 0.8, 'silent': 0, 'min_child_weight': 7.0, 'n_estimators': 789.0, 'subsample': 0.5, 'eta': 0.1, 'objective': 'binary:logistic', 'max_depth': 3.0, 'gamma': 0.75, 'booster': 'gbtree'}\n",
      "\tScore 0.761818038102\n",
      "\n",
      "\n",
      "Training with params : \n",
      "{'colsample_bytree': 0.8500000000000001, 'silent': 0, 'min_child_weight': 6.0, 'n_estimators': 656.0, 'subsample': 0.5, 'eta': 0.15000000000000002, 'objective': 'binary:logistic', 'max_depth': 1.0, 'gamma': 0.8, 'booster': 'gbtree'}\n",
      "\tScore 0.742339612311\n",
      "\n",
      "\n",
      "Training with params : \n",
      "{'colsample_bytree': 0.9500000000000001, 'silent': 0, 'min_child_weight': 5.0, 'n_estimators': 999.0, 'subsample': 0.55, 'eta': 0.325, 'objective': 'binary:logistic', 'max_depth': 4.0, 'gamma': 0.55, 'booster': 'gbtree'}\n",
      "\tScore 0.706973870641\n",
      "\n",
      "\n",
      "Training with params : \n",
      "{'colsample_bytree': 1.0, 'silent': 0, 'min_child_weight': 7.0, 'n_estimators': 717.0, 'subsample': 0.6000000000000001, 'eta': 0.05, 'objective': 'binary:logistic', 'max_depth': 2.0, 'gamma': 0.8500000000000001, 'booster': 'gbtree'}\n",
      "\tScore 0.778286460948\n",
      "\n",
      "\n",
      "Training with params : \n",
      "{'colsample_bytree': 0.65, 'silent': 0, 'min_child_weight': 6.0, 'n_estimators': 840.0, 'subsample': 0.55, 'eta': 0.07500000000000001, 'objective': 'binary:logistic', 'max_depth': 5.0, 'gamma': 0.7000000000000001, 'booster': 'gbtree'}\n",
      "\tScore 0.747331719752\n",
      "\n",
      "\n",
      "Training with params : \n",
      "{'colsample_bytree': 0.9, 'silent': 0, 'min_child_weight': 4.0, 'n_estimators': 820.0, 'subsample': 0.5, 'eta': 0.125, 'objective': 'binary:logistic', 'max_depth': 3.0, 'gamma': 0.9, 'booster': 'gbtree'}\n",
      "\tScore 0.758335239276\n",
      "\n",
      "\n",
      "Training with params : \n",
      "{'colsample_bytree': 0.75, 'silent': 0, 'min_child_weight': 7.0, 'n_estimators': 877.0, 'subsample': 0.6000000000000001, 'eta': 0.025, 'objective': 'binary:logistic', 'max_depth': 4.0, 'gamma': 0.75, 'booster': 'gbtree'}\n",
      "\tScore 0.77506732384\n",
      "\n",
      "\n",
      "Training with params : \n",
      "{'colsample_bytree': 0.8500000000000001, 'silent': 0, 'min_child_weight': 8.0, 'n_estimators': 683.0, 'subsample': 0.55, 'eta': 0.05, 'objective': 'binary:logistic', 'max_depth': 3.0, 'gamma': 0.65, 'booster': 'gbtree'}\n",
      "\tScore 0.777502827287\n",
      "\n",
      "\n",
      "Training with params : \n",
      "{'colsample_bytree': 0.8, 'silent': 0, 'min_child_weight': 6.0, 'n_estimators': 860.0, 'subsample': 0.6000000000000001, 'eta': 0.2, 'objective': 'binary:logistic', 'max_depth': 3.0, 'gamma': 0.8500000000000001, 'booster': 'gbtree'}\n",
      "\tScore 0.743162481238\n",
      "\n",
      "\n",
      "Training with params : \n",
      "{'colsample_bytree': 0.9, 'silent': 0, 'min_child_weight': 5.0, 'n_estimators': 590.0, 'subsample': 0.55, 'eta': 0.07500000000000001, 'objective': 'binary:logistic', 'max_depth': 5.0, 'gamma': 0.55, 'booster': 'gbtree'}\n",
      "\tScore 0.762347527623\n",
      "\n",
      "\n",
      "Training with params : \n",
      "{'colsample_bytree': 1.0, 'silent': 0, 'min_child_weight': 7.0, 'n_estimators': 624.0, 'subsample': 0.65, 'eta': 0.17500000000000002, 'objective': 'binary:logistic', 'max_depth': 2.0, 'gamma': 0.8, 'booster': 'gbtree'}\n",
      "\tScore 0.770470504199\n",
      "\n",
      "\n",
      "Training with params : \n",
      "{'colsample_bytree': 0.8500000000000001, 'silent': 0, 'min_child_weight': 8.0, 'n_estimators': 905.0, 'subsample': 0.5, 'eta': 0.1, 'objective': 'binary:logistic', 'max_depth': 1.0, 'gamma': 0.65, 'booster': 'gbtree'}\n",
      "\tScore 0.74302389729\n",
      "\n",
      "\n",
      "Training with params : \n",
      "{'colsample_bytree': 0.7000000000000001, 'silent': 0, 'min_child_weight': 5.0, 'n_estimators': 543.0, 'subsample': 0.5, 'eta': 0.15000000000000002, 'objective': 'binary:logistic', 'max_depth': 4.0, 'gamma': 0.75, 'booster': 'gbtree'}\n",
      "\tScore 0.739815977409\n",
      "\n",
      "\n",
      "Training with params : \n",
      "{'colsample_bytree': 0.9500000000000001, 'silent': 0, 'min_child_weight': 6.0, 'n_estimators': 696.0, 'subsample': 0.6000000000000001, 'eta': 0.025, 'objective': 'binary:logistic', 'max_depth': 2.0, 'gamma': 0.8, 'booster': 'gbtree'}\n",
      "\tScore 0.779057355206\n",
      "\n",
      "\n",
      "Training with params : \n",
      "{'colsample_bytree': 0.9, 'silent': 0, 'min_child_weight': 4.0, 'n_estimators': 750.0, 'subsample': 0.65, 'eta': 0.05, 'objective': 'binary:logistic', 'max_depth': 3.0, 'gamma': 0.7000000000000001, 'booster': 'gbtree'}\n",
      "\tScore 0.776973490211\n",
      "\n",
      "\n",
      "Training with params : \n",
      "{'colsample_bytree': 0.9500000000000001, 'silent': 0, 'min_child_weight': 8.0, 'n_estimators': 530.0, 'subsample': 0.7000000000000001, 'eta': 0.025, 'objective': 'binary:logistic', 'max_depth': 3.0, 'gamma': 0.8, 'booster': 'gbtree'}\n"
     ]
    },
    {
     "ename": "KeyboardInterrupt",
     "evalue": "",
     "output_type": "error",
     "traceback": [
      "\u001b[0;31m---------------------------------------------------------------------------\u001b[0m",
      "\u001b[0;31mKeyboardInterrupt\u001b[0m                         Traceback (most recent call last)",
      "\u001b[0;32m<ipython-input-702-69ac1e9b8674>\u001b[0m in \u001b[0;36m<module>\u001b[0;34m()\u001b[0m\n\u001b[1;32m     62\u001b[0m \u001b[0mtrials\u001b[0m \u001b[0;34m=\u001b[0m \u001b[0mTrials\u001b[0m\u001b[0;34m(\u001b[0m\u001b[0;34m)\u001b[0m\u001b[0;34m\u001b[0m\u001b[0m\n\u001b[1;32m     63\u001b[0m \u001b[0;34m\u001b[0m\u001b[0m\n\u001b[0;32m---> 64\u001b[0;31m \u001b[0moptimize\u001b[0m\u001b[0;34m(\u001b[0m\u001b[0mtrials\u001b[0m\u001b[0;34m)\u001b[0m\u001b[0;34m\u001b[0m\u001b[0m\n\u001b[0m",
      "\u001b[0;32m<ipython-input-702-69ac1e9b8674>\u001b[0m in \u001b[0;36moptimize\u001b[0;34m(trials)\u001b[0m\n\u001b[1;32m     47\u001b[0m             }\n\u001b[1;32m     48\u001b[0m \u001b[0;34m\u001b[0m\u001b[0m\n\u001b[0;32m---> 49\u001b[0;31m     \u001b[0mbest\u001b[0m \u001b[0;34m=\u001b[0m \u001b[0mfmin\u001b[0m\u001b[0;34m(\u001b[0m\u001b[0mscore\u001b[0m\u001b[0;34m,\u001b[0m \u001b[0mspace\u001b[0m\u001b[0;34m,\u001b[0m \u001b[0malgo\u001b[0m\u001b[0;34m=\u001b[0m\u001b[0mtpe\u001b[0m\u001b[0;34m.\u001b[0m\u001b[0msuggest\u001b[0m\u001b[0;34m,\u001b[0m \u001b[0mtrials\u001b[0m\u001b[0;34m=\u001b[0m\u001b[0mtrials\u001b[0m\u001b[0;34m,\u001b[0m \u001b[0mmax_evals\u001b[0m\u001b[0;34m=\u001b[0m\u001b[0;36m400\u001b[0m\u001b[0;34m)\u001b[0m\u001b[0;34m\u001b[0m\u001b[0m\n\u001b[0m\u001b[1;32m     50\u001b[0m \u001b[0;34m\u001b[0m\u001b[0m\n\u001b[1;32m     51\u001b[0m     \u001b[0;32mprint\u001b[0m \u001b[0mbest\u001b[0m\u001b[0;34m\u001b[0m\u001b[0m\n",
      "\u001b[0;32m/Users/Apple/anaconda/lib/python2.7/site-packages/hyperopt/fmin.pyc\u001b[0m in \u001b[0;36mfmin\u001b[0;34m(fn, space, algo, max_evals, trials, rseed)\u001b[0m\n\u001b[1;32m    332\u001b[0m \u001b[0;34m\u001b[0m\u001b[0m\n\u001b[1;32m    333\u001b[0m     \u001b[0mrval\u001b[0m \u001b[0;34m=\u001b[0m \u001b[0mFMinIter\u001b[0m\u001b[0;34m(\u001b[0m\u001b[0malgo\u001b[0m\u001b[0;34m,\u001b[0m \u001b[0mdomain\u001b[0m\u001b[0;34m,\u001b[0m \u001b[0mtrials\u001b[0m\u001b[0;34m,\u001b[0m \u001b[0mmax_evals\u001b[0m\u001b[0;34m=\u001b[0m\u001b[0mmax_evals\u001b[0m\u001b[0;34m)\u001b[0m\u001b[0;34m\u001b[0m\u001b[0m\n\u001b[0;32m--> 334\u001b[0;31m     \u001b[0mrval\u001b[0m\u001b[0;34m.\u001b[0m\u001b[0mexhaust\u001b[0m\u001b[0;34m(\u001b[0m\u001b[0;34m)\u001b[0m\u001b[0;34m\u001b[0m\u001b[0m\n\u001b[0m\u001b[1;32m    335\u001b[0m     \u001b[0;32mreturn\u001b[0m \u001b[0mtrials\u001b[0m\u001b[0;34m.\u001b[0m\u001b[0margmin\u001b[0m\u001b[0;34m\u001b[0m\u001b[0m\n\u001b[1;32m    336\u001b[0m \u001b[0;34m\u001b[0m\u001b[0m\n",
      "\u001b[0;32m/Users/Apple/anaconda/lib/python2.7/site-packages/hyperopt/fmin.pyc\u001b[0m in \u001b[0;36mexhaust\u001b[0;34m(self)\u001b[0m\n\u001b[1;32m    292\u001b[0m     \u001b[0;32mdef\u001b[0m \u001b[0mexhaust\u001b[0m\u001b[0;34m(\u001b[0m\u001b[0mself\u001b[0m\u001b[0;34m)\u001b[0m\u001b[0;34m:\u001b[0m\u001b[0;34m\u001b[0m\u001b[0m\n\u001b[1;32m    293\u001b[0m         \u001b[0mn_done\u001b[0m \u001b[0;34m=\u001b[0m \u001b[0mlen\u001b[0m\u001b[0;34m(\u001b[0m\u001b[0mself\u001b[0m\u001b[0;34m.\u001b[0m\u001b[0mtrials\u001b[0m\u001b[0;34m)\u001b[0m\u001b[0;34m\u001b[0m\u001b[0m\n\u001b[0;32m--> 294\u001b[0;31m         \u001b[0mself\u001b[0m\u001b[0;34m.\u001b[0m\u001b[0mrun\u001b[0m\u001b[0;34m(\u001b[0m\u001b[0mself\u001b[0m\u001b[0;34m.\u001b[0m\u001b[0mmax_evals\u001b[0m \u001b[0;34m-\u001b[0m \u001b[0mn_done\u001b[0m\u001b[0;34m,\u001b[0m \u001b[0mblock_until_done\u001b[0m\u001b[0;34m=\u001b[0m\u001b[0mself\u001b[0m\u001b[0;34m.\u001b[0m\u001b[0masync\u001b[0m\u001b[0;34m)\u001b[0m\u001b[0;34m\u001b[0m\u001b[0m\n\u001b[0m\u001b[1;32m    295\u001b[0m         \u001b[0mself\u001b[0m\u001b[0;34m.\u001b[0m\u001b[0mtrials\u001b[0m\u001b[0;34m.\u001b[0m\u001b[0mrefresh\u001b[0m\u001b[0;34m(\u001b[0m\u001b[0;34m)\u001b[0m\u001b[0;34m\u001b[0m\u001b[0m\n\u001b[1;32m    296\u001b[0m         \u001b[0;32mreturn\u001b[0m \u001b[0mself\u001b[0m\u001b[0;34m\u001b[0m\u001b[0m\n",
      "\u001b[0;32m/Users/Apple/anaconda/lib/python2.7/site-packages/hyperopt/fmin.pyc\u001b[0m in \u001b[0;36mrun\u001b[0;34m(self, N, block_until_done)\u001b[0m\n\u001b[1;32m    266\u001b[0m             \u001b[0;32melse\u001b[0m\u001b[0;34m:\u001b[0m\u001b[0;34m\u001b[0m\u001b[0m\n\u001b[1;32m    267\u001b[0m                 \u001b[0;31m# -- loop over trials and do the jobs directly\u001b[0m\u001b[0;34m\u001b[0m\u001b[0;34m\u001b[0m\u001b[0m\n\u001b[0;32m--> 268\u001b[0;31m                 \u001b[0mself\u001b[0m\u001b[0;34m.\u001b[0m\u001b[0mserial_evaluate\u001b[0m\u001b[0;34m(\u001b[0m\u001b[0;34m)\u001b[0m\u001b[0;34m\u001b[0m\u001b[0m\n\u001b[0m\u001b[1;32m    269\u001b[0m \u001b[0;34m\u001b[0m\u001b[0m\n\u001b[1;32m    270\u001b[0m             \u001b[0;32mif\u001b[0m \u001b[0mstopped\u001b[0m\u001b[0;34m:\u001b[0m\u001b[0;34m\u001b[0m\u001b[0m\n",
      "\u001b[0;32m/Users/Apple/anaconda/lib/python2.7/site-packages/hyperopt/fmin.pyc\u001b[0m in \u001b[0;36mserial_evaluate\u001b[0;34m(self, N)\u001b[0m\n\u001b[1;32m    185\u001b[0m                 \u001b[0mctrl\u001b[0m \u001b[0;34m=\u001b[0m \u001b[0mbase\u001b[0m\u001b[0;34m.\u001b[0m\u001b[0mCtrl\u001b[0m\u001b[0;34m(\u001b[0m\u001b[0mself\u001b[0m\u001b[0;34m.\u001b[0m\u001b[0mtrials\u001b[0m\u001b[0;34m,\u001b[0m \u001b[0mcurrent_trial\u001b[0m\u001b[0;34m=\u001b[0m\u001b[0mtrial\u001b[0m\u001b[0;34m)\u001b[0m\u001b[0;34m\u001b[0m\u001b[0m\n\u001b[1;32m    186\u001b[0m                 \u001b[0;32mtry\u001b[0m\u001b[0;34m:\u001b[0m\u001b[0;34m\u001b[0m\u001b[0m\n\u001b[0;32m--> 187\u001b[0;31m                     \u001b[0mresult\u001b[0m \u001b[0;34m=\u001b[0m \u001b[0mself\u001b[0m\u001b[0;34m.\u001b[0m\u001b[0mdomain\u001b[0m\u001b[0;34m.\u001b[0m\u001b[0mevaluate\u001b[0m\u001b[0;34m(\u001b[0m\u001b[0mspec\u001b[0m\u001b[0;34m,\u001b[0m \u001b[0mctrl\u001b[0m\u001b[0;34m)\u001b[0m\u001b[0;34m\u001b[0m\u001b[0m\n\u001b[0m\u001b[1;32m    188\u001b[0m                 \u001b[0;32mexcept\u001b[0m \u001b[0mException\u001b[0m\u001b[0;34m,\u001b[0m \u001b[0me\u001b[0m\u001b[0;34m:\u001b[0m\u001b[0;34m\u001b[0m\u001b[0m\n\u001b[1;32m    189\u001b[0m                     \u001b[0mlogger\u001b[0m\u001b[0;34m.\u001b[0m\u001b[0minfo\u001b[0m\u001b[0;34m(\u001b[0m\u001b[0;34m'job exception: %s'\u001b[0m \u001b[0;34m%\u001b[0m \u001b[0mstr\u001b[0m\u001b[0;34m(\u001b[0m\u001b[0me\u001b[0m\u001b[0;34m)\u001b[0m\u001b[0;34m)\u001b[0m\u001b[0;34m\u001b[0m\u001b[0m\n",
      "\u001b[0;32m/Users/Apple/anaconda/lib/python2.7/site-packages/hyperopt/fmin.pyc\u001b[0m in \u001b[0;36mevaluate\u001b[0;34m(self, config, ctrl, attach_attachments)\u001b[0m\n\u001b[1;32m    112\u001b[0m             pyll_rval = pyll.rec_eval(self.expr, memo=memo,\n\u001b[1;32m    113\u001b[0m                     print_node_on_error=self.rec_eval_print_node_on_error)\n\u001b[0;32m--> 114\u001b[0;31m             \u001b[0mrval\u001b[0m \u001b[0;34m=\u001b[0m \u001b[0mself\u001b[0m\u001b[0;34m.\u001b[0m\u001b[0mfn\u001b[0m\u001b[0;34m(\u001b[0m\u001b[0mpyll_rval\u001b[0m\u001b[0;34m)\u001b[0m\u001b[0;34m\u001b[0m\u001b[0m\n\u001b[0m\u001b[1;32m    115\u001b[0m \u001b[0;34m\u001b[0m\u001b[0m\n\u001b[1;32m    116\u001b[0m         \u001b[0;32mif\u001b[0m \u001b[0misinstance\u001b[0m\u001b[0;34m(\u001b[0m\u001b[0mrval\u001b[0m\u001b[0;34m,\u001b[0m \u001b[0;34m(\u001b[0m\u001b[0mfloat\u001b[0m\u001b[0;34m,\u001b[0m \u001b[0mint\u001b[0m\u001b[0;34m,\u001b[0m \u001b[0mnp\u001b[0m\u001b[0;34m.\u001b[0m\u001b[0mnumber\u001b[0m\u001b[0;34m)\u001b[0m\u001b[0;34m)\u001b[0m\u001b[0;34m:\u001b[0m\u001b[0;34m\u001b[0m\u001b[0m\n",
      "\u001b[0;32m<ipython-input-702-69ac1e9b8674>\u001b[0m in \u001b[0;36mscore\u001b[0;34m(params)\u001b[0m\n\u001b[1;32m     27\u001b[0m     \u001b[0;31m#dvalid = xgb.DMatrix(X_test[X_train.columns], label=y_test)\u001b[0m\u001b[0;34m\u001b[0m\u001b[0;34m\u001b[0m\u001b[0m\n\u001b[1;32m     28\u001b[0m     \u001b[0;31m# watchlist = [(dvalid, 'eval'), (dtrain, 'train')]\u001b[0m\u001b[0;34m\u001b[0m\u001b[0;34m\u001b[0m\u001b[0m\n\u001b[0;32m---> 29\u001b[0;31m     \u001b[0mmodel\u001b[0m \u001b[0;34m=\u001b[0m \u001b[0mxgb\u001b[0m\u001b[0;34m.\u001b[0m\u001b[0mtrain\u001b[0m\u001b[0;34m(\u001b[0m\u001b[0mparams\u001b[0m\u001b[0;34m,\u001b[0m \u001b[0mdtrain\u001b[0m\u001b[0;34m,\u001b[0m \u001b[0mnum_round\u001b[0m\u001b[0;34m)\u001b[0m\u001b[0;34m\u001b[0m\u001b[0m\n\u001b[0m\u001b[1;32m     30\u001b[0m     \u001b[0mscore\u001b[0m \u001b[0;34m=\u001b[0m \u001b[0mroc_auc_score\u001b[0m\u001b[0;34m(\u001b[0m\u001b[0my_test\u001b[0m\u001b[0;34m,\u001b[0m\u001b[0mmodel\u001b[0m\u001b[0;34m.\u001b[0m\u001b[0mpredict\u001b[0m\u001b[0;34m(\u001b[0m\u001b[0mxgb\u001b[0m\u001b[0;34m.\u001b[0m\u001b[0mDMatrix\u001b[0m\u001b[0;34m(\u001b[0m\u001b[0mX_test\u001b[0m\u001b[0;34m)\u001b[0m\u001b[0;34m)\u001b[0m\u001b[0;34m)\u001b[0m\u001b[0;34m\u001b[0m\u001b[0m\n\u001b[1;32m     31\u001b[0m     \u001b[0;32mprint\u001b[0m \u001b[0;34m\"\\tScore {0}\\n\\n\"\u001b[0m\u001b[0;34m.\u001b[0m\u001b[0mformat\u001b[0m\u001b[0;34m(\u001b[0m\u001b[0mscore\u001b[0m\u001b[0;34m)\u001b[0m\u001b[0;34m\u001b[0m\u001b[0m\n",
      "\u001b[0;32m/Users/Apple/anaconda/lib/python2.7/site-packages/xgboost/training.pyc\u001b[0m in \u001b[0;36mtrain\u001b[0;34m(params, dtrain, num_boost_round, evals, obj, feval, maximize, early_stopping_rounds, evals_result, verbose_eval, learning_rates, xgb_model)\u001b[0m\n\u001b[1;32m    119\u001b[0m     \u001b[0;32mif\u001b[0m \u001b[0;32mnot\u001b[0m \u001b[0mearly_stopping_rounds\u001b[0m\u001b[0;34m:\u001b[0m\u001b[0;34m\u001b[0m\u001b[0m\n\u001b[1;32m    120\u001b[0m         \u001b[0;32mfor\u001b[0m \u001b[0mi\u001b[0m \u001b[0;32min\u001b[0m \u001b[0mrange\u001b[0m\u001b[0;34m(\u001b[0m\u001b[0mnum_boost_round\u001b[0m\u001b[0;34m)\u001b[0m\u001b[0;34m:\u001b[0m\u001b[0;34m\u001b[0m\u001b[0m\n\u001b[0;32m--> 121\u001b[0;31m             \u001b[0mbst\u001b[0m\u001b[0;34m.\u001b[0m\u001b[0mupdate\u001b[0m\u001b[0;34m(\u001b[0m\u001b[0mdtrain\u001b[0m\u001b[0;34m,\u001b[0m \u001b[0mi\u001b[0m\u001b[0;34m,\u001b[0m \u001b[0mobj\u001b[0m\u001b[0;34m)\u001b[0m\u001b[0;34m\u001b[0m\u001b[0m\n\u001b[0m\u001b[1;32m    122\u001b[0m             \u001b[0mnboost\u001b[0m \u001b[0;34m+=\u001b[0m \u001b[0;36m1\u001b[0m\u001b[0;34m\u001b[0m\u001b[0m\n\u001b[1;32m    123\u001b[0m             \u001b[0;32mif\u001b[0m \u001b[0mlen\u001b[0m\u001b[0;34m(\u001b[0m\u001b[0mevals\u001b[0m\u001b[0;34m)\u001b[0m \u001b[0;34m!=\u001b[0m \u001b[0;36m0\u001b[0m\u001b[0;34m:\u001b[0m\u001b[0;34m\u001b[0m\u001b[0m\n",
      "\u001b[0;32m/Users/Apple/anaconda/lib/python2.7/site-packages/xgboost/core.pyc\u001b[0m in \u001b[0;36mupdate\u001b[0;34m(self, dtrain, iteration, fobj)\u001b[0m\n\u001b[1;32m    692\u001b[0m \u001b[0;34m\u001b[0m\u001b[0m\n\u001b[1;32m    693\u001b[0m         \u001b[0;32mif\u001b[0m \u001b[0mfobj\u001b[0m \u001b[0;32mis\u001b[0m \u001b[0mNone\u001b[0m\u001b[0;34m:\u001b[0m\u001b[0;34m\u001b[0m\u001b[0m\n\u001b[0;32m--> 694\u001b[0;31m             \u001b[0m_check_call\u001b[0m\u001b[0;34m(\u001b[0m\u001b[0m_LIB\u001b[0m\u001b[0;34m.\u001b[0m\u001b[0mXGBoosterUpdateOneIter\u001b[0m\u001b[0;34m(\u001b[0m\u001b[0mself\u001b[0m\u001b[0;34m.\u001b[0m\u001b[0mhandle\u001b[0m\u001b[0;34m,\u001b[0m \u001b[0miteration\u001b[0m\u001b[0;34m,\u001b[0m \u001b[0mdtrain\u001b[0m\u001b[0;34m.\u001b[0m\u001b[0mhandle\u001b[0m\u001b[0;34m)\u001b[0m\u001b[0;34m)\u001b[0m\u001b[0;34m\u001b[0m\u001b[0m\n\u001b[0m\u001b[1;32m    695\u001b[0m         \u001b[0;32melse\u001b[0m\u001b[0;34m:\u001b[0m\u001b[0;34m\u001b[0m\u001b[0m\n\u001b[1;32m    696\u001b[0m             \u001b[0mpred\u001b[0m \u001b[0;34m=\u001b[0m \u001b[0mself\u001b[0m\u001b[0;34m.\u001b[0m\u001b[0mpredict\u001b[0m\u001b[0;34m(\u001b[0m\u001b[0mdtrain\u001b[0m\u001b[0;34m)\u001b[0m\u001b[0;34m\u001b[0m\u001b[0m\n",
      "\u001b[0;31mKeyboardInterrupt\u001b[0m: "
     ]
    }
   ],
   "source": [
    "# X = pd.get_dummies(to_train[cat])\n",
    "# X[cont] = to_train[cont]\n",
    "# X[extra] = to_train[extra]\n",
    "\n",
    "y = to_train['Outcome']\n",
    "\n",
    "#X = X.drop('Income_-1', axis = 1)\n",
    "#X = X.drop('City_Type_-1', axis = 1)\n",
    "\n",
    "from sklearn.cross_validation import train_test_split\n",
    "from sklearn.metrics import mean_squared_error\n",
    "from sklearn import preprocessing\n",
    "\n",
    "from hyperopt import hp\n",
    "from hyperopt import fmin, tpe, hp, STATUS_OK, Trials\n",
    "from sklearn.metrics import roc_auc_score\n",
    "    \n",
    "import xgboost as xgb\n",
    "\n",
    "\n",
    "def score(params):\n",
    "    print \"Training with params : \"\n",
    "    print params\n",
    "    num_round = int(params['n_estimators'])\n",
    "    del params['n_estimators']\n",
    "    dtrain = xgb.DMatrix(X_train.values, label=y_train.values)\n",
    "    #dvalid = xgb.DMatrix(X_test[X_train.columns], label=y_test)\n",
    "    # watchlist = [(dvalid, 'eval'), (dtrain, 'train')]\n",
    "    model = xgb.train(params, dtrain, num_round)\n",
    "    score = roc_auc_score(y_test,model.predict(xgb.DMatrix(X_test)))\n",
    "    print \"\\tScore {0}\\n\\n\".format(score)\n",
    "    return {'loss': -score, 'status': STATUS_OK}\n",
    "\n",
    "\n",
    "def optimize(trials):\n",
    "    space = {\n",
    "             'n_estimators' : hp.quniform('n_estimators', 100, 1000, 1),\n",
    "             'eta' : hp.quniform('eta', 0.025, 0.5, 0.025),\n",
    "             'max_depth' : hp.quniform('max_depth', 1, 7, 1),\n",
    "             'min_child_weight' : hp.quniform('min_child_weight', 1, 10, 1),\n",
    "             'subsample' : hp.quniform('subsample', 0.5, 1, 0.05),\n",
    "             'gamma' : hp.quniform('gamma', 0.5, 1, 0.05),\n",
    "             'colsample_bytree' : hp.quniform('colsample_bytree', 0.5, 1, 0.05),\n",
    "             'objective': 'binary:logistic',\n",
    "             'silent' : 0,\n",
    "            \"booster\" : \"gbtree\",\n",
    "            }\n",
    "\n",
    "    best = fmin(score, space, algo=tpe.suggest, trials=trials, max_evals=400)\n",
    "\n",
    "    print best\n",
    "\n",
    "    \n",
    "X_train = X[X['Registration_Date']>'2005-06-06']\n",
    "X_test = X[X['Registration_Date']<='2005-06-06']\n",
    "y_train = y[X_train.index]\n",
    "y_test = y[X_test.index]\n",
    "X_train = X_train.drop('Registration_Date', axis = 1)\n",
    "X_test = X_test.drop('Registration_Date', axis = 1)\n",
    "\n",
    "#Trials object where the history of search will be stored\n",
    "trials = Trials()\n",
    "\n",
    "optimize(trials)"
   ]
  }
 ],
 "metadata": {
  "kernelspec": {
   "display_name": "Python 2",
   "language": "python",
   "name": "python2"
  },
  "language_info": {
   "codemirror_mode": {
    "name": "ipython",
    "version": 2
   },
   "file_extension": ".py",
   "mimetype": "text/x-python",
   "name": "python",
   "nbconvert_exporter": "python",
   "pygments_lexer": "ipython2",
   "version": "2.7.11"
  }
 },
 "nbformat": 4,
 "nbformat_minor": 0
}
